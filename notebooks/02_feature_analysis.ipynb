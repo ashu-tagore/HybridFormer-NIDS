{
 "cells": [
  {
   "cell_type": "code",
   "execution_count": 1,
   "id": "e43d0c59-6d7a-4ff2-9f36-b052b491a2ce",
   "metadata": {},
   "outputs": [
    {
     "name": "stdout",
     "output_type": "stream",
     "text": [
      "=== FEATURE ANALYSIS SETUP ===\n",
      "Python version: 3.13.7 (tags/v3.13.7:bcee1c3, Aug 14 2025, 14:15:11) [MSC v.1944 64 bit (AMD64)]\n",
      "Pandas version: 2.3.2\n",
      "NumPy version: 2.2.6\n",
      "Analysis timestamp: 2025-09-29 15:53:35.419503\n"
     ]
    }
   ],
   "source": [
    "# Cell 1: Setup and Imports\n",
    "import pandas as pd\n",
    "import numpy as np\n",
    "import matplotlib.pyplot as plt\n",
    "import seaborn as sns\n",
    "import warnings\n",
    "from pathlib import Path\n",
    "import json\n",
    "from datetime import datetime\n",
    "import sys\n",
    "import os\n",
    "from collections import Counter\n",
    "from scipy import stats\n",
    "from scipy.stats import chi2_contingency, normaltest\n",
    "from sklearn.feature_selection import mutual_info_classif, SelectKBest, f_classif\n",
    "from sklearn.preprocessing import LabelEncoder, StandardScaler\n",
    "from sklearn.decomposition import PCA\n",
    "from sklearn.manifold import TSNE\n",
    "import plotly.express as px\n",
    "import plotly.graph_objects as go\n",
    "from plotly.subplots import make_subplots\n",
    "\n",
    "# Adding src to path for imports\n",
    "sys.path.append(os.path.join(os.getcwd(), '..', '..', 'src'))\n",
    "\n",
    "# Configuring display and warnings\n",
    "pd.set_option('display.max_columns', None)\n",
    "pd.set_option('display.max_rows', 50)\n",
    "warnings.filterwarnings('ignore')\n",
    "\n",
    "# Setting plot style\n",
    "plt.style.use('default')\n",
    "sns.set_palette(\"husl\")\n",
    "plt.rcParams['figure.figsize'] = (12, 8)\n",
    "\n",
    "print(\"=== FEATURE ANALYSIS SETUP ===\")\n",
    "print(f\"Python version: {sys.version}\")\n",
    "print(f\"Pandas version: {pd.__version__}\")\n",
    "print(f\"NumPy version: {np.__version__}\")\n",
    "print(f\"Analysis timestamp: {datetime.now()}\")"
   ]
  },
  {
   "cell_type": "code",
   "execution_count": 2,
   "id": "cfb763ce-0b6f-4b15-817b-4eb710254e71",
   "metadata": {},
   "outputs": [
    {
     "name": "stdout",
     "output_type": "stream",
     "text": [
      "=== DATA LOADING CONFIGURATION ===\n",
      "Sample sizes: Large=50000, Medium=10000, Small=5000\n",
      "Analysis thresholds: Correlation=0.95, Mutual Info=0.1\n"
     ]
    }
   ],
   "source": [
    "# Cell 2: Loading Data and Configuration\n",
    "# Project paths\n",
    "PROJECT_ROOT = Path.cwd().parent.parent\n",
    "DATA_RAW_PATH = PROJECT_ROOT / \"data\" / \"raw\"\n",
    "DATA_PROCESSED_PATH = PROJECT_ROOT / \"data\" / \"processed\" \n",
    "RESULTS_PATH = PROJECT_ROOT / \"results\" / \"data_exploration\"\n",
    "\n",
    "# Feature analysis results path\n",
    "FEATURE_RESULTS_PATH = PROJECT_ROOT / \"results\" / \"feature_analysis\"\n",
    "FEATURE_RESULTS_PATH.mkdir(parents=True, exist_ok=True)\n",
    "\n",
    "# Configuration\n",
    "FEATURE_CONFIG = {\n",
    "    'sample_size_large': 50000,    # For computationally expensive analysis\n",
    "    'sample_size_medium': 10000,   # For detailed correlation analysis\n",
    "    'sample_size_small': 5000,     # For visualization\n",
    "    'correlation_threshold': 0.95, # For high correlation detection\n",
    "    'mutual_info_threshold': 0.1,  # For feature importance\n",
    "    'random_state': 42,\n",
    "    'n_components_pca': 10,        # For PCA analysis\n",
    "    'plot_style': 'plotly'         \n",
    "}\n",
    "\n",
    "print(\"=== DATA LOADING CONFIGURATION ===\")\n",
    "print(f\"Sample sizes: Large={FEATURE_CONFIG['sample_size_large']}, \"\n",
    "      f\"Medium={FEATURE_CONFIG['sample_size_medium']}, \"\n",
    "      f\"Small={FEATURE_CONFIG['sample_size_small']}\")\n",
    "print(f\"Analysis thresholds: Correlation={FEATURE_CONFIG['correlation_threshold']}, \"\n",
    "      f\"Mutual Info={FEATURE_CONFIG['mutual_info_threshold']}\")"
   ]
  },
  {
   "cell_type": "code",
   "execution_count": 3,
   "id": "f7970e41-ec9b-42f7-980f-a4f247504c16",
   "metadata": {},
   "outputs": [
    {
     "name": "stdout",
     "output_type": "stream",
     "text": [
      "=== LOADING DATASETS ===\n",
      "Loading CICFlowMeter data...\n",
      "CICFlowMeter full size: (3540241, 84)\n",
      "Loading Data.csv...\n",
      "Loading Label.csv...\n",
      "\n",
      "Dataset Summary:\n",
      "CICFlow: (3540241, 84) (sampled: (32284, 84))\n",
      "Data: (447915, 76)\n",
      "Labels: (447915, 1)\n"
     ]
    }
   ],
   "source": [
    "# Cell 3: Comprehensive Data Loading with Sampling\n",
    "def load_datasets_with_sampling():\n",
    "    \"\"\"Loading datasets with intelligent sampling for analysis\"\"\"\n",
    "    \n",
    "    print(\"=== LOADING DATASETS ===\")\n",
    "    datasets = {}\n",
    "    \n",
    "    # Loading CICFlowMeter data (sample for analysis)\n",
    "    print(\"Loading CICFlowMeter data...\")\n",
    "    cicflow_full = pd.read_csv(DATA_RAW_PATH / \"CICFlowMeter_out.csv\", low_memory=False)\n",
    "    print(f\"CICFlowMeter full size: {cicflow_full.shape}\")\n",
    "    \n",
    "    # Sampling for analysis (stratified by label)\n",
    "    if len(cicflow_full) > FEATURE_CONFIG['sample_size_large']:\n",
    "        # Stratified sampling to maintain label distribution\n",
    "        cicflow_sample = cicflow_full.groupby('Label', group_keys=False).apply(\n",
    "            lambda x: x.sample(min(len(x), FEATURE_CONFIG['sample_size_large'] // \n",
    "                              cicflow_full['Label'].nunique()), \n",
    "                              random_state=FEATURE_CONFIG['random_state'])\n",
    "        ).reset_index(drop=True)\n",
    "    else:\n",
    "        cicflow_sample = cicflow_full.copy()\n",
    "    \n",
    "    datasets['cicflow'] = {\n",
    "        'full': cicflow_full,\n",
    "        'sample': cicflow_sample,\n",
    "        'shape_full': cicflow_full.shape,\n",
    "        'shape_sample': cicflow_sample.shape\n",
    "    }\n",
    "    \n",
    "    # Loading Data.csv\n",
    "    print(\"Loading Data.csv...\")\n",
    "    data_df = pd.read_csv(DATA_RAW_PATH / \"Data.csv\", low_memory=False)\n",
    "    datasets['data'] = {\n",
    "        'full': data_df,\n",
    "        'shape': data_df.shape\n",
    "    }\n",
    "    \n",
    "    # Loading Labels.csv\n",
    "    print(\"Loading Label.csv...\")\n",
    "    labels_df = pd.read_csv(DATA_RAW_PATH / \"Label.csv\")\n",
    "    datasets['labels'] = {\n",
    "        'full': labels_df,\n",
    "        'shape': labels_df.shape\n",
    "    }\n",
    "    \n",
    "    print(f\"\\nDataset Summary:\")\n",
    "    print(f\"CICFlow: {datasets['cicflow']['shape_full']} (sampled: {datasets['cicflow']['shape_sample']})\")\n",
    "    print(f\"Data: {datasets['data']['shape']}\")\n",
    "    print(f\"Labels: {datasets['labels']['shape']}\")\n",
    "    \n",
    "    return datasets\n",
    "\n",
    "# Loading all datasets\n",
    "datasets = load_datasets_with_sampling()"
   ]
  },
  {
   "cell_type": "code",
   "execution_count": 4,
   "id": "52559abb-2a70-468c-a5d8-d9bd57376a24",
   "metadata": {},
   "outputs": [
    {
     "name": "stdout",
     "output_type": "stream",
     "text": [
      "=== LABEL ANALYSIS ===\n",
      "\n",
      "CICFlowMeter Label Distribution:\n",
      "  Exploits: 5,000 (15.49%)\n",
      "  Benign: 5,000 (15.49%)\n",
      "  Fuzzers: 5,000 (15.49%)\n",
      "  Reconnaissance: 5,000 (15.49%)\n",
      "  Generic: 4,632 (14.35%)\n",
      "  DoS: 4,467 (13.84%)\n",
      "  Shellcode: 2,102 (6.51%)\n",
      "  Backdoor: 452 (1.40%)\n",
      "  Analysis: 385 (1.19%)\n",
      "  Worms: 246 (0.76%)\n",
      "\n",
      "Data.csv Numerical Label Distribution:\n",
      "  0: 358,332 (80.00%)\n",
      "  1: 385 (0.09%)\n",
      "  2: 452 (0.10%)\n",
      "  3: 4,467 (1.00%)\n",
      "  4: 30,951 (6.91%)\n",
      "  5: 29,613 (6.61%)\n",
      "  6: 4,632 (1.03%)\n",
      "  7: 16,735 (3.74%)\n",
      "  8: 2,102 (0.47%)\n",
      "  9: 246 (0.05%)\n",
      "\n",
      "=== LABEL MAPPING ANALYSIS ===\n",
      "String labels in CICFlow: ['Analysis', 'Backdoor', 'Benign', 'DoS', 'Exploits', 'Fuzzers', 'Generic', 'Reconnaissance', 'Shellcode', 'Worms']\n",
      "Numerical labels in Data: [np.int64(0), np.int64(1), np.int64(2), np.int64(3), np.int64(4), np.int64(5), np.int64(6), np.int64(7), np.int64(8), np.int64(9)]\n",
      "\n",
      "Attempting to create label mapping...\n",
      "Common features for mapping: 76\n",
      "\n",
      "Potential Label Mapping:\n",
      "  0 → Benign (confidence: 616 samples)\n",
      "  3 → Benign (confidence: 29 samples)\n",
      "  4 → Benign (confidence: 188 samples)\n",
      "  5 → Benign (confidence: 102 samples)\n",
      "  6 → Benign (confidence: 19 samples)\n",
      "  7 → Benign (confidence: 38 samples)\n",
      "  8 → Benign (confidence: 7 samples)\n",
      "  9 → Benign (confidence: 1 samples)\n",
      "\n",
      "=== CLASS IMBALANCE ANALYSIS ===\n",
      "CICFlow imbalance ratio: 20.33\n",
      "Numerical labels imbalance ratio: 1456.63\n",
      "⚠️  Significant class imbalance detected!\n",
      "   Recommendations: SMOTE, class weights, or stratified sampling\n"
     ]
    }
   ],
   "source": [
    "# Cell 4: Label Analysis and Mapping\n",
    "def analyze_labels():\n",
    "    \"\"\"Comprehensive analysis of labels and attack types\"\"\"\n",
    "    \n",
    "    print(\"=== LABEL ANALYSIS ===\")\n",
    "    \n",
    "    # Analyzing CICFlowMeter labels (string labels)\n",
    "    cicflow_labels = datasets['cicflow']['sample']['Label'].value_counts()\n",
    "    print(f\"\\nCICFlowMeter Label Distribution:\")\n",
    "    for label, count in cicflow_labels.items():\n",
    "        percentage = (count / len(datasets['cicflow']['sample'])) * 100\n",
    "        print(f\"  {label}: {count:,} ({percentage:.2f}%)\")\n",
    "    \n",
    "    # Analyzing Data.csv labels (numerical)\n",
    "    numerical_labels = datasets['labels']['full']['Label'].value_counts().sort_index()\n",
    "    print(f\"\\nData.csv Numerical Label Distribution:\")\n",
    "    for label, count in numerical_labels.items():\n",
    "        percentage = (count / len(datasets['labels']['full'])) * 100\n",
    "        print(f\"  {label}: {count:,} ({percentage:.2f}%)\")\n",
    "    \n",
    "    # Creating label mapping by analyzing patterns\n",
    "    print(f\"\\n=== LABEL MAPPING ANALYSIS ===\")\n",
    "    \n",
    "    # Getting unique labels from both datasets\n",
    "    string_labels = set(datasets['cicflow']['full']['Label'].unique())\n",
    "    numerical_labels_set = set(datasets['labels']['full']['Label'].unique())\n",
    "    \n",
    "    print(f\"String labels in CICFlow: {sorted(string_labels)}\")\n",
    "    print(f\"Numerical labels in Data: {sorted(numerical_labels_set)}\")\n",
    "    \n",
    "    # Attemptting to create mapping by sampling and comparing\n",
    "    # Sampling CICFlow to match Data size and see if we can find patterns\n",
    "    if len(datasets['cicflow']['full']) > len(datasets['data']['full']):\n",
    "        print(f\"\\nAttempting to create label mapping...\")\n",
    "        \n",
    "        # Using the first rows of each dataset to find potential mapping\n",
    "        cicflow_subset = datasets['cicflow']['full'].head(len(datasets['data']['full']))\n",
    "        data_subset = datasets['data']['full']\n",
    "        labels_subset = datasets['labels']['full']\n",
    "        \n",
    "        # Checking if features match (they should based on our previous analysis)\n",
    "        common_features = [col for col in data_subset.columns if col in cicflow_subset.columns]\n",
    "        print(f\"Common features for mapping: {len(common_features)}\")\n",
    "        \n",
    "        # Creating a potential mapping based on order (if data is subset of cicflow)\n",
    "        potential_mapping = {}\n",
    "        cicflow_label_sample = cicflow_subset['Label'].head(1000)\n",
    "        numerical_label_sample = labels_subset['Label'].head(1000)\n",
    "        \n",
    "        # Grouping by numerical label and see most common string label\n",
    "        temp_df = pd.DataFrame({\n",
    "            'string_label': cicflow_label_sample,\n",
    "            'numerical_label': numerical_label_sample\n",
    "        })\n",
    "        \n",
    "        mapping_analysis = temp_df.groupby('numerical_label')['string_label'].agg(['count', lambda x: x.mode().iloc[0] if len(x.mode()) > 0 else 'Unknown']).reset_index()\n",
    "        mapping_analysis.columns = ['numerical_label', 'count', 'most_common_string']\n",
    "        \n",
    "        print(f\"\\nPotential Label Mapping:\")\n",
    "        for _, row in mapping_analysis.iterrows():\n",
    "            print(f\"  {row['numerical_label']} → {row['most_common_string']} (confidence: {row['count']} samples)\")\n",
    "    \n",
    "    # Class imbalance analysis\n",
    "    print(f\"\\n=== CLASS IMBALANCE ANALYSIS ===\")\n",
    "    \n",
    "    # Calculating imbalance metrics\n",
    "    cicflow_imbalance = cicflow_labels.max() / cicflow_labels.min()\n",
    "    numerical_imbalance = numerical_labels.max() / numerical_labels.min()\n",
    "    \n",
    "    print(f\"CICFlow imbalance ratio: {cicflow_imbalance:.2f}\")\n",
    "    print(f\"Numerical labels imbalance ratio: {numerical_imbalance:.2f}\")\n",
    "    \n",
    "    # Recommendations for handling imbalance\n",
    "    if cicflow_imbalance > 10 or numerical_imbalance > 10:\n",
    "        print(f\"⚠️  Significant class imbalance detected!\")\n",
    "        print(f\"   Recommendations: SMOTE, class weights, or stratified sampling\")\n",
    "    else:\n",
    "        print(f\"✅ Moderate class imbalance - manageable with standard techniques\")\n",
    "    \n",
    "    return {\n",
    "        'cicflow_distribution': cicflow_labels,\n",
    "        'numerical_distribution': numerical_labels,\n",
    "        'imbalance_ratios': {\n",
    "            'cicflow': cicflow_imbalance,\n",
    "            'numerical': numerical_imbalance\n",
    "        }\n",
    "    }\n",
    "\n",
    "# Performing label analysis\n",
    "label_analysis = analyze_labels()"
   ]
  },
  {
   "cell_type": "code",
   "execution_count": 5,
   "id": "8b773c46-16b8-4ee9-bed7-e6cefdfbbba0",
   "metadata": {},
   "outputs": [
    {
     "name": "stdout",
     "output_type": "stream",
     "text": [
      "=== FEATURE CORRELATION ANALYSIS ===\n",
      "Analyzing correlations for 10000 samples, 76 features\n",
      "\n",
      "=== HIGH CORRELATION PAIRS (>0.95) ===\n",
      "Found 37 highly correlated feature pairs:\n",
      "  Bwd Packet Length Mean ↔ Bwd Segment Size Avg: 1.000\n",
      "  Fwd Packet Length Mean ↔ Fwd Segment Size Avg: 1.000\n",
      "  Idle Mean ↔ Idle Min: 0.999\n",
      "  Flow Packets/s ↔ Fwd Packets/s: 0.999\n",
      "  Flow IAT Max ↔ Fwd IAT Max: 0.999\n",
      "  Subflow Bwd Packets ↔ Subflow Bwd Bytes: 0.998\n",
      "  Idle Mean ↔ Idle Max: 0.997\n",
      "  Flow IAT Std ↔ Fwd IAT Std: 0.995\n",
      "  Idle Max ↔ Idle Min: 0.994\n",
      "  Flow IAT Mean ↔ Fwd IAT Mean: 0.994\n",
      "Warning: Clustering failed (Linkage 'Z' contains negative distances.), using simple grouping\n"
     ]
    }
   ],
   "source": [
    "# Cell 5: Feature Correlation Analysis\n",
    "def analyze_feature_correlations():\n",
    "    \"\"\"Analyzing correlations between features for multi-modal separation\"\"\"\n",
    "    \n",
    "    print(\"=== FEATURE CORRELATION ANALYSIS ===\")\n",
    "    \n",
    "    # Using Data.csv for correlation analysis (clean numerical features)\n",
    "    data_sample = datasets['data']['full'].sample(\n",
    "        n=min(FEATURE_CONFIG['sample_size_medium'], len(datasets['data']['full'])),\n",
    "        random_state=FEATURE_CONFIG['random_state']\n",
    "    )\n",
    "    \n",
    "    print(f\"Analyzing correlations for {data_sample.shape[0]} samples, {data_sample.shape[1]} features\")\n",
    "    \n",
    "    # Calculating correlation matrix with NaN handling\n",
    "    correlation_matrix = data_sample.corr(method='pearson')\n",
    "    \n",
    "    # Handling NaN values (replace with 0)\n",
    "    correlation_matrix = correlation_matrix.fillna(0)\n",
    "    \n",
    "    # Ensuring matrix is symmetric (fix floating point precision issues)\n",
    "    correlation_matrix = (correlation_matrix + correlation_matrix.T) / 2\n",
    "    \n",
    "    # Finding highly correlated features\n",
    "    high_corr_threshold = FEATURE_CONFIG['correlation_threshold']\n",
    "    high_corr_pairs = []\n",
    "    \n",
    "    for i in range(len(correlation_matrix.columns)):\n",
    "        for j in range(i+1, len(correlation_matrix.columns)):\n",
    "            corr_value = abs(correlation_matrix.iloc[i, j])\n",
    "            if corr_value > high_corr_threshold:\n",
    "                high_corr_pairs.append({\n",
    "                    'feature1': correlation_matrix.columns[i],\n",
    "                    'feature2': correlation_matrix.columns[j],\n",
    "                    'correlation': corr_value\n",
    "                })\n",
    "    \n",
    "    print(f\"\\n=== HIGH CORRELATION PAIRS (>{high_corr_threshold}) ===\")\n",
    "    high_corr_df = pd.DataFrame(high_corr_pairs).sort_values('correlation', ascending=False)\n",
    "    print(f\"Found {len(high_corr_pairs)} highly correlated feature pairs:\")\n",
    "    for _, row in high_corr_df.head(10).iterrows():\n",
    "        print(f\"  {row['feature1']} ↔ {row['feature2']}: {row['correlation']:.3f}\")\n",
    "    \n",
    "    # Feature clustering based on correlation\n",
    "    try:\n",
    "        from scipy.cluster.hierarchy import linkage, fcluster\n",
    "        from scipy.spatial.distance import squareform\n",
    "        \n",
    "        # Converting correlation to distance matrix\n",
    "        distance_matrix = 1 - abs(correlation_matrix)\n",
    "        \n",
    "        # Ensuring distance matrix is valid (symmetric, positive, with zero diagonal)\n",
    "        np.fill_diagonal(distance_matrix.values, 0)  # Set diagonal to 0\n",
    "        distance_matrix = (distance_matrix + distance_matrix.T) / 2  # Ensure symmetry\n",
    "        \n",
    "        # Checking if matrix is valid for clustering\n",
    "        if not np.allclose(distance_matrix.values, distance_matrix.values.T):\n",
    "            print(\"Warning: Distance matrix is not symmetric after correction\")\n",
    "            # Simple fallback clustering\n",
    "            feature_clusters = {1: list(correlation_matrix.columns)}\n",
    "        else:\n",
    "            # Converting to condensed form for linkage\n",
    "            condensed_distance = squareform(distance_matrix.values)\n",
    "            \n",
    "            # Performing hierarchical clustering\n",
    "            linkage_matrix = linkage(condensed_distance, method='average')\n",
    "            clusters = fcluster(linkage_matrix, t=0.3, criterion='distance')\n",
    "            \n",
    "            # Group features by clusters\n",
    "            feature_clusters = {}\n",
    "            for i, cluster_id in enumerate(clusters):\n",
    "                if cluster_id not in feature_clusters:\n",
    "                    feature_clusters[cluster_id] = []\n",
    "                feature_clusters[cluster_id].append(correlation_matrix.columns[i])\n",
    "        \n",
    "        print(f\"\\n=== FEATURE CLUSTERING ===\")\n",
    "        print(f\"Features grouped into {len(feature_clusters)} clusters:\")\n",
    "        for cluster_id, features in feature_clusters.items():\n",
    "            if len(features) > 1:  # Only show clusters with multiple features\n",
    "                print(f\"  Cluster {cluster_id} ({len(features)} features): {features[:5]}{'...' if len(features) > 5 else ''}\")\n",
    "    \n",
    "    except Exception as e:\n",
    "        print(f\"Warning: Clustering failed ({str(e)}), using simple grouping\")\n",
    "        # Fallback: group by high correlation\n",
    "        feature_clusters = {1: list(correlation_matrix.columns)}\n",
    "    \n",
    "    return {\n",
    "        'correlation_matrix': correlation_matrix,\n",
    "        'high_corr_pairs': high_corr_df,\n",
    "        'feature_clusters': feature_clusters,\n",
    "        'data_sample': data_sample\n",
    "    }\n",
    "\n",
    "# Performing correlation analysis\n",
    "correlation_analysis = analyze_feature_correlations()"
   ]
  },
  {
   "cell_type": "code",
   "execution_count": 6,
   "id": "0810d1b8-0dec-47d9-a01d-0565f38cf4b0",
   "metadata": {},
   "outputs": [
    {
     "name": "stdout",
     "output_type": "stream",
     "text": [
      "=== FEATURE IMPORTANCE ANALYSIS ===\n",
      "Analyzing importance for 76 features with 10 classes\n",
      "\n",
      "--- Mutual Information Analysis ---\n",
      "Top 10 features by Mutual Information:\n",
      "  Bwd Header Length: 0.4220\n",
      "  Fwd Header Length: 0.3725\n",
      "  Fwd Seg Size Min: 0.3695\n",
      "  FWD Init Win Bytes: 0.3680\n",
      "  Bwd Init Win Bytes: 0.3660\n",
      "  Packet Length Max: 0.3486\n",
      "  Bwd Packets/s: 0.3339\n",
      "  Flow IAT Mean: 0.3222\n",
      "  Flow Packets/s: 0.3157\n",
      "  Total Fwd Packet: 0.3149\n",
      "\n",
      "--- ANOVA F-statistic Analysis ---\n",
      "Top 10 features by F-statistic:\n",
      "  Fwd Seg Size Min: F=254.39, p=0.00e+00\n",
      "  Bwd Packets/s: F=234.25, p=0.00e+00\n",
      "  Fwd IAT Min: F=190.40, p=0.00e+00\n",
      "  FIN Flag Count: F=181.41, p=3.30e-320\n",
      "  Fwd Packets/s: F=105.28, p=3.93e-189\n",
      "  Flow Packets/s: F=98.20, p=1.46e-176\n",
      "  Fwd Packet Length Mean: F=70.04, p=7.27e-126\n",
      "  Fwd Segment Size Avg: F=70.04, p=7.27e-126\n",
      "  Flow IAT Min: F=64.69, p=4.05e-116\n",
      "  Average Packet Size: F=63.16, p=2.47e-113\n",
      "\n",
      "--- Feature Variance Analysis ---\n",
      "Top 10 features by variance:\n",
      "  Flow Bytes/s: 7.40e+14\n",
      "  Bwd Bulk Rate Avg: 1.21e+14\n",
      "  Flow Duration: 1.79e+13\n",
      "  Fwd IAT Total: 1.76e+13\n",
      "  Bwd IAT Total: 8.14e+12\n",
      "  Fwd IAT Max: 6.25e+12\n",
      "  Flow IAT Max: 6.24e+12\n",
      "  Idle Max: 6.14e+12\n",
      "  Idle Mean: 6.04e+12\n",
      "  Idle Min: 6.02e+12\n",
      "\n",
      "--- Combined Importance Ranking ---\n",
      "Top 15 features by combined importance:\n",
      "  Fwd Seg Size Min: 0.738 (MI:0.88, F:1.00, Var:0.00)\n",
      "  Bwd Packets/s: 0.672 (MI:0.79, F:0.92, Var:0.00)\n",
      "  Flow Bytes/s: 0.530 (MI:0.56, F:0.17, Var:1.00)\n",
      "  Bwd Header Length: 0.511 (MI:1.00, F:0.04, Var:0.00)\n",
      "  Flow Packets/s: 0.490 (MI:0.75, F:0.39, Var:0.00)\n",
      "  Fwd Packets/s: 0.488 (MI:0.73, F:0.41, Var:0.00)\n",
      "  Packet Length Max: 0.477 (MI:0.83, F:0.21, Var:0.00)\n",
      "  Fwd Header Length: 0.454 (MI:0.88, F:0.04, Var:0.00)\n",
      "  FWD Init Win Bytes: 0.441 (MI:0.87, F:0.02, Var:0.00)\n",
      "  Bwd Init Win Bytes: 0.440 (MI:0.87, F:0.02, Var:0.00)\n",
      "  Fwd Packet Length Max: 0.428 (MI:0.73, F:0.21, Var:0.00)\n",
      "  Packet Length Mean: 0.408 (MI:0.67, F:0.24, Var:0.00)\n",
      "  Fwd Segment Size Avg: 0.403 (MI:0.64, F:0.27, Var:0.00)\n",
      "  Fwd Packet Length Mean: 0.402 (MI:0.64, F:0.27, Var:0.00)\n",
      "  Flow IAT Mean: 0.398 (MI:0.76, F:0.05, Var:0.00)\n"
     ]
    }
   ],
   "source": [
    "# Cell 6: Feature Importance Analysis\n",
    "def analyze_feature_importance():\n",
    "    \"\"\"Analyzing feature importance using multiple methods\"\"\"\n",
    "    \n",
    "    print(\"=== FEATURE IMPORTANCE ANALYSIS ===\")\n",
    "    \n",
    "    # Preparing data for feature importance analysis\n",
    "    # Using Data.csv + Labels.csv combination\n",
    "    data_sample = datasets['data']['full'].sample(\n",
    "        n=min(FEATURE_CONFIG['sample_size_medium'], len(datasets['data']['full'])),\n",
    "        random_state=FEATURE_CONFIG['random_state']\n",
    "    )\n",
    "    labels_sample = datasets['labels']['full'].iloc[data_sample.index]\n",
    "    \n",
    "    X = data_sample.values\n",
    "    y = labels_sample['Label'].values\n",
    "    feature_names = data_sample.columns.tolist()\n",
    "    \n",
    "    print(f\"Analyzing importance for {X.shape[1]} features with {len(np.unique(y))} classes\")\n",
    "    \n",
    "    # Method 1: Mutual Information\n",
    "    print(\"\\n--- Mutual Information Analysis ---\")\n",
    "    mi_scores = mutual_info_classif(X, y, random_state=FEATURE_CONFIG['random_state'])\n",
    "    mi_results = pd.DataFrame({\n",
    "        'feature': feature_names,\n",
    "        'mutual_info': mi_scores\n",
    "    }).sort_values('mutual_info', ascending=False)\n",
    "    \n",
    "    print(f\"Top 10 features by Mutual Information:\")\n",
    "    for _, row in mi_results.head(10).iterrows():\n",
    "        print(f\"  {row['feature']}: {row['mutual_info']:.4f}\")\n",
    "    \n",
    "    # Method 2: F-statistic (ANOVA)\n",
    "    print(\"\\n--- ANOVA F-statistic Analysis ---\")\n",
    "    f_scores, p_values = f_classif(X, y)\n",
    "    f_results = pd.DataFrame({\n",
    "        'feature': feature_names,\n",
    "        'f_score': f_scores,\n",
    "        'p_value': p_values\n",
    "    }).sort_values('f_score', ascending=False)\n",
    "    \n",
    "    print(f\"Top 10 features by F-statistic:\")\n",
    "    for _, row in f_results.head(10).iterrows():\n",
    "        print(f\"  {row['feature']}: F={row['f_score']:.2f}, p={row['p_value']:.2e}\")\n",
    "    \n",
    "    # Method 3: Variance analysis\n",
    "    print(\"\\n--- Feature Variance Analysis ---\")\n",
    "    feature_variances = data_sample.var().sort_values(ascending=False)\n",
    "    print(f\"Top 10 features by variance:\")\n",
    "    for feature, variance in feature_variances.head(10).items():\n",
    "        print(f\"  {feature}: {variance:.2e}\")\n",
    "    \n",
    "    # Combined importance score\n",
    "    print(\"\\n--- Combined Importance Ranking ---\")\n",
    "    \n",
    "    # Normalizing scores to 0-1 range\n",
    "    mi_normalized = (mi_results['mutual_info'] - mi_results['mutual_info'].min()) / (mi_results['mutual_info'].max() - mi_results['mutual_info'].min())\n",
    "    f_normalized = (f_results['f_score'] - f_results['f_score'].min()) / (f_results['f_score'].max() - f_results['f_score'].min())\n",
    "    var_normalized = (feature_variances - feature_variances.min()) / (feature_variances.max() - feature_variances.min())\n",
    "    \n",
    "    # Creating combined scoring\n",
    "    combined_scores = []\n",
    "    for feature in feature_names:\n",
    "        mi_score = mi_normalized[mi_results['feature'] == feature].iloc[0]\n",
    "        f_score = f_normalized[f_results['feature'] == feature].iloc[0]\n",
    "        var_score = var_normalized[feature]\n",
    "        \n",
    "        # Weighted combination (you can adjust weights)\n",
    "        combined_score = 0.5 * mi_score + 0.3 * f_score + 0.2 * var_score\n",
    "        combined_scores.append({\n",
    "            'feature': feature,\n",
    "            'combined_score': combined_score,\n",
    "            'mi_score': mi_score,\n",
    "            'f_score': f_score,\n",
    "            'var_score': var_score\n",
    "        })\n",
    "    \n",
    "    combined_results = pd.DataFrame(combined_scores).sort_values('combined_score', ascending=False)\n",
    "    \n",
    "    print(f\"Top 15 features by combined importance:\")\n",
    "    for _, row in combined_results.head(15).iterrows():\n",
    "        print(f\"  {row['feature']}: {row['combined_score']:.3f} \"\n",
    "              f\"(MI:{row['mi_score']:.2f}, F:{row['f_score']:.2f}, Var:{row['var_score']:.2f})\")\n",
    "    \n",
    "    return {\n",
    "        'mutual_info': mi_results,\n",
    "        'f_statistics': f_results,\n",
    "        'variances': feature_variances,\n",
    "        'combined_importance': combined_results,\n",
    "        'feature_names': feature_names\n",
    "    }\n",
    "\n",
    "# Performing feature importance analysis\n",
    "importance_analysis = analyze_feature_importance()"
   ]
  },
  {
   "cell_type": "code",
   "execution_count": 7,
   "id": "5afc758f-fdd1-4ded-b34b-77b50c9452f1",
   "metadata": {},
   "outputs": [
    {
     "name": "stdout",
     "output_type": "stream",
     "text": [
      "=== MULTI-MODAL FEATURE SEPARATION ===\n",
      "Feature categorization:\n",
      "  temporal_features: 25 features\n",
      "    Sample: ['Flow Duration', 'Fwd Packet Length Mean', 'Fwd Packet Length Std']...\n",
      "  statistical_features: 19 features\n",
      "    Sample: ['Total Length of Fwd Packet', 'Total Length of Bwd Packet', 'Fwd Packet Length Max']...\n",
      "  behavioral_features: 21 features\n",
      "    Sample: ['Fwd PSH Flags', 'Bwd PSH Flags', 'Fwd URG Flags']...\n",
      "  protocol_features: 3 features\n",
      "    Sample: ['Flow Bytes/s', 'Subflow Fwd Bytes', 'Subflow Bwd Bytes']\n",
      "  size_features: 8 features\n",
      "    Sample: ['Total Fwd Packet', 'Total Bwd packets', 'Flow Packets/s']...\n",
      "  timing_features: 0 features\n",
      "\n",
      "=== BRANCH FEATURE ALLOCATION ===\n",
      "cnn_branch: 27 features\n",
      "  Sample features: ['Total Length of Fwd Packet', 'Total Length of Bwd Packet', 'Fwd Packet Length Max', 'Fwd Packet Length Min', 'Bwd Packet Length Max']...\n",
      "transformer_branch: 25 features\n",
      "  Sample features: ['Flow Duration', 'Fwd Packet Length Mean', 'Fwd Packet Length Std', 'Bwd Packet Length Mean', 'Bwd Packet Length Std']...\n",
      "graph_branch: 24 features\n",
      "  Sample features: ['Fwd PSH Flags', 'Bwd PSH Flags', 'Fwd URG Flags', 'Bwd URG Flags', 'FIN Flag Count']...\n",
      "\n",
      "Total features allocated: 76/76\n",
      "\n",
      "=== IMPORTANCE-BASED REFINEMENT ===\n",
      "Refined feature allocation (importance-based):\n",
      "  cnn_branch: 20 features\n",
      "  transformer_branch: 20 features\n",
      "  graph_branch: 15 features\n"
     ]
    }
   ],
   "source": [
    "# Cell 7: Multi-Modal Feature Separation Strategy\n",
    "def design_multimodal_features():\n",
    "    \"\"\"Designing feature separation strategy for HybridFormer branches\"\"\"\n",
    "    \n",
    "    print(\"=== MULTI-MODAL FEATURE SEPARATION ===\")\n",
    "    \n",
    "    # Getting feature names from Data.csv (76 features)\n",
    "    all_features = datasets['data']['full'].columns.tolist()\n",
    "    \n",
    "    # Defining feature categories based on network flow analysis\n",
    "    feature_categories = {\n",
    "        'temporal_features': [],      # For Transformer branch (sequential patterns)\n",
    "        'statistical_features': [],   # For CNN branch (local patterns)\n",
    "        'behavioral_features': [],    # For Graph branch (relationships)\n",
    "        'protocol_features': [],      # Network protocol specific\n",
    "        'size_features': [],          # Packet/flow size related\n",
    "        'timing_features': []         # Inter-arrival times, durations\n",
    "    }\n",
    "    \n",
    "    # Categorizing features based on names and semantics\n",
    "    for feature in all_features:\n",
    "        feature_lower = feature.lower()\n",
    "        \n",
    "        # Temporal/timing features (good for Transformer)\n",
    "        if any(term in feature_lower for term in ['iat', 'duration', 'time', 'mean', 'std']):\n",
    "            feature_categories['temporal_features'].append(feature)\n",
    "        \n",
    "        # Statistical features (good for CNN - local patterns)\n",
    "        elif any(term in feature_lower for term in ['max', 'min', 'variance', 'length', 'size']):\n",
    "            feature_categories['statistical_features'].append(feature)\n",
    "        \n",
    "        # Behavioral features (good for Graph - connection patterns)\n",
    "        elif any(term in feature_lower for term in ['flag', 'ratio', 'bulk', 'init', 'active', 'idle']):\n",
    "            feature_categories['behavioral_features'].append(feature)\n",
    "        \n",
    "        # Protocol specific features\n",
    "        elif any(term in feature_lower for term in ['header', 'segment', 'win', 'bytes']):\n",
    "            feature_categories['protocol_features'].append(feature)\n",
    "        \n",
    "        # Size related features\n",
    "        elif any(term in feature_lower for term in ['packet', 'fwd', 'bwd']):\n",
    "            feature_categories['size_features'].append(feature)\n",
    "        \n",
    "        # Default to timing if not categorized\n",
    "        else:\n",
    "            feature_categories['timing_features'].append(feature)\n",
    "    \n",
    "    print(\"Feature categorization:\")\n",
    "    for category, features in feature_categories.items():\n",
    "        print(f\"  {category}: {len(features)} features\")\n",
    "        if features:\n",
    "            print(f\"    Sample: {features[:3]}{'...' if len(features) > 3 else ''}\")\n",
    "    \n",
    "    # Designing branch-specific feature sets\n",
    "    branch_features = {\n",
    "        'cnn_branch': (\n",
    "            feature_categories['statistical_features'] + \n",
    "            feature_categories['size_features']\n",
    "        ),\n",
    "        'transformer_branch': (\n",
    "            feature_categories['temporal_features'] + \n",
    "            feature_categories['timing_features']\n",
    "        ),\n",
    "        'graph_branch': (\n",
    "            feature_categories['behavioral_features'] + \n",
    "            feature_categories['protocol_features']\n",
    "        )\n",
    "    }\n",
    "    \n",
    "    print(f\"\\n=== BRANCH FEATURE ALLOCATION ===\")\n",
    "    total_allocated = 0\n",
    "    for branch, features in branch_features.items():\n",
    "        print(f\"{branch}: {len(features)} features\")\n",
    "        total_allocated += len(features)\n",
    "        if features:\n",
    "            print(f\"  Sample features: {features[:5]}{'...' if len(features) > 5 else ''}\")\n",
    "    \n",
    "    print(f\"\\nTotal features allocated: {total_allocated}/{len(all_features)}\")\n",
    "    \n",
    "    # Handling overlaps and ensuring all features are used\n",
    "    all_branch_features = set()\n",
    "    for features in branch_features.values():\n",
    "        all_branch_features.update(features)\n",
    "    \n",
    "    unallocated_features = set(all_features) - all_branch_features\n",
    "    if unallocated_features:\n",
    "        print(f\"Unallocated features ({len(unallocated_features)}): {list(unallocated_features)[:5]}{'...' if len(unallocated_features) > 5 else ''}\")\n",
    "        # Addding unallocated to the branch with fewest features\n",
    "        min_branch = min(branch_features.keys(), key=lambda x: len(branch_features[x]))\n",
    "        branch_features[min_branch].extend(list(unallocated_features))\n",
    "        print(f\"Added to {min_branch}\")\n",
    "    \n",
    "    # Using feature importance to refine selections\n",
    "    print(f\"\\n=== IMPORTANCE-BASED REFINEMENT ===\")\n",
    "    top_features = importance_analysis['combined_importance'].head(50)['feature'].tolist()\n",
    "    \n",
    "    refined_branch_features = {}\n",
    "    for branch, features in branch_features.items():\n",
    "        # Keeping important features and add some based on importance\n",
    "        important_in_branch = [f for f in features if f in top_features]\n",
    "        \n",
    "        # If branch has too few important features, add more from top features\n",
    "        if len(important_in_branch) < 15:  # Minimum features per branch\n",
    "            remaining_top = [f for f in top_features if f not in important_in_branch]\n",
    "            additional_needed = 15 - len(important_in_branch)\n",
    "            important_in_branch.extend(remaining_top[:additional_needed])\n",
    "        \n",
    "        refined_branch_features[branch] = important_in_branch[:25]  # Max 25 features per branch\n",
    "    \n",
    "    print(\"Refined feature allocation (importance-based):\")\n",
    "    for branch, features in refined_branch_features.items():\n",
    "        print(f\"  {branch}: {len(features)} features\")\n",
    "    \n",
    "    return {\n",
    "        'feature_categories': feature_categories,\n",
    "        'branch_features': branch_features,\n",
    "        'refined_branch_features': refined_branch_features,\n",
    "        'all_features': all_features\n",
    "    }\n",
    "\n",
    "# Designing multi-modal feature separation\n",
    "multimodal_design = design_multimodal_features()"
   ]
  },
  {
   "cell_type": "code",
   "execution_count": 8,
   "id": "a9915260-a267-4006-9ef1-829fec5e229b",
   "metadata": {},
   "outputs": [
    {
     "name": "stdout",
     "output_type": "stream",
     "text": [
      "=== GRAPH CONSTRUCTION FEATURE ANALYSIS ===\n",
      "Analyzing 5000 samples for graph construction\n",
      "Graph construction feature categories:\n",
      "  node_features: 9 features\n",
      "    Sample: ['Flow Duration', 'Total Fwd Packet', 'Total Bwd packets']...\n",
      "  edge_features: 35 features\n",
      "    Sample: ['Fwd Packet Length Max', 'Fwd Packet Length Min', 'Fwd Packet Length Mean']...\n",
      "  similarity_features: 9 features\n",
      "    Sample: ['Fwd Header Length', 'Bwd Header Length', 'Fwd Segment Size Avg']...\n",
      "  temporal_features: 8 features\n",
      "    Sample: ['Active Mean', 'Active Std', 'Active Max']...\n",
      "  connectivity_features: 12 features\n",
      "    Sample: ['Fwd PSH Flags', 'Bwd PSH Flags', 'Fwd URG Flags']...\n",
      "\n",
      "=== FEATURE DISTRIBUTION ANALYSIS FOR GRAPHS ===\n",
      "\n",
      "--- Feature Suitability Analysis ---\n",
      "Top 10 features by variance (good for similarity graphs):\n",
      "  Flow Bytes/s: std=19027878.92\n",
      "  Bwd Bulk Rate Avg: std=12982570.30\n",
      "  Flow Duration: std=3687540.88\n",
      "  Fwd IAT Total: std=3612281.78\n",
      "  Bwd IAT Total: std=2735545.47\n",
      "  Fwd IAT Max: std=2638298.69\n",
      "  Flow IAT Max: std=2637677.14\n",
      "  Idle Max: std=2618373.60\n",
      "  Idle Mean: std=2617003.36\n",
      "  Idle Min: std=2615821.89\n",
      "\n",
      "Well-distributed features (39): suitable for correlation graphs\n",
      "  Sample: ['Flow Duration', 'Total Fwd Packet', 'Total Bwd packets', 'Total Length of Fwd Packet', 'Total Length of Bwd Packet']...\n",
      "\n",
      "=== RECOMMENDED GRAPH CONSTRUCTION STRATEGIES ===\n",
      "correlation_based:\n",
      "  Description: Edges based on feature correlation\n",
      "  Features: 20 selected\n",
      "  Method: pearson_correlation\n",
      "knn_based:\n",
      "  Description: K-nearest neighbors in feature space\n",
      "  Features: 10 selected\n",
      "  Method: euclidean_distance\n",
      "temporal_based:\n",
      "  Description: Edges based on temporal proximity\n",
      "  Features: 8 selected\n",
      "  Method: time_window\n"
     ]
    }
   ],
   "source": [
    "# Cell 8: Graph Construction Feature Analysis\n",
    "def analyze_graph_construction_features():\n",
    "    \"\"\"Analyze features for graph construction in GraphVAE\"\"\"\n",
    "    \n",
    "    print(\"=== GRAPH CONSTRUCTION FEATURE ANALYSIS ===\")\n",
    "    \n",
    "    # Sample data for graph analysis\n",
    "    data_sample = datasets['data']['full'].sample(\n",
    "        n=min(FEATURE_CONFIG['sample_size_small'], len(datasets['data']['full'])),\n",
    "        random_state=FEATURE_CONFIG['random_state']\n",
    "    )\n",
    "    \n",
    "    print(f\"Analyzing {data_sample.shape[0]} samples for graph construction\")\n",
    "    \n",
    "    # Identify features suitable for different graph construction strategies\n",
    "    graph_features = {\n",
    "        'node_features': [],      # Features that define node properties\n",
    "        'edge_features': [],      # Features that can define edge weights\n",
    "        'similarity_features': [], # Features for similarity-based edges\n",
    "        'temporal_features': [],   # Features for temporal edges\n",
    "        'connectivity_features': [] # Features indicating connections\n",
    "    }\n",
    "    \n",
    "    all_features = data_sample.columns.tolist()\n",
    "    \n",
    "    # Categorize features for graph construction\n",
    "    for feature in all_features:\n",
    "        feature_lower = feature.lower()\n",
    "        \n",
    "        # Node features (intrinsic properties of flows)\n",
    "        if any(term in feature_lower for term in ['duration', 'total', 'average', 'ratio']):\n",
    "            graph_features['node_features'].append(feature)\n",
    "        \n",
    "        # Edge features (relationship indicators)\n",
    "        elif any(term in feature_lower for term in ['iat', 'flow', 'packet']):\n",
    "            graph_features['edge_features'].append(feature)\n",
    "        \n",
    "        # Similarity features (for correlation-based edges)\n",
    "        elif any(term in feature_lower for term in ['length', 'size', 'bytes']):\n",
    "            graph_features['similarity_features'].append(feature)\n",
    "        \n",
    "        # Temporal features (for time-based edges)\n",
    "        elif any(term in feature_lower for term in ['time', 'mean', 'std', 'max', 'min']):\n",
    "            graph_features['temporal_features'].append(feature)\n",
    "        \n",
    "        # Connectivity features (protocol, flags, etc.)\n",
    "        elif any(term in feature_lower for term in ['flag', 'header', 'init', 'win']):\n",
    "            graph_features['connectivity_features'].append(feature)\n",
    "    \n",
    "    print(\"Graph construction feature categories:\")\n",
    "    for category, features in graph_features.items():\n",
    "        print(f\"  {category}: {len(features)} features\")\n",
    "        if features:\n",
    "            print(f\"    Sample: {features[:3]}{'...' if len(features) > 3 else ''}\")\n",
    "    \n",
    "    # Analyze feature distributions for graph construction\n",
    "    print(f\"\\n=== FEATURE DISTRIBUTION ANALYSIS FOR GRAPHS ===\")\n",
    "    \n",
    "    # Calculate feature statistics relevant for graph construction\n",
    "    feature_stats = {}\n",
    "    for feature in all_features:\n",
    "        values = data_sample[feature]\n",
    "        feature_stats[feature] = {\n",
    "            'mean': values.mean(),\n",
    "            'std': values.std(),\n",
    "            'min': values.min(),\n",
    "            'max': values.max(),\n",
    "            'unique_values': values.nunique(),\n",
    "            'zero_ratio': (values == 0).sum() / len(values),\n",
    "            'outlier_ratio': len(values[(values < values.quantile(0.01)) | \n",
    "                                      (values > values.quantile(0.99))]) / len(values)\n",
    "        }\n",
    "    \n",
    "    # Identify best features for different graph construction methods\n",
    "    print(f\"\\n--- Feature Suitability Analysis ---\")\n",
    "    \n",
    "    # Features with good variance (suitable for similarity-based edges)\n",
    "    high_variance_features = sorted(\n",
    "        [(f, stats['std']) for f, stats in feature_stats.items()],\n",
    "        key=lambda x: x[1], reverse=True\n",
    "    )[:10]\n",
    "    \n",
    "    print(\"Top 10 features by variance (good for similarity graphs):\")\n",
    "    for feature, variance in high_variance_features:\n",
    "        print(f\"  {feature}: std={variance:.2f}\")\n",
    "    \n",
    "    # Features with good distribution (not too many zeros)\n",
    "    well_distributed_features = [\n",
    "        f for f, stats in feature_stats.items() \n",
    "        if stats['zero_ratio'] < 0.8 and stats['unique_values'] > 100\n",
    "    ]\n",
    "    \n",
    "    print(f\"\\nWell-distributed features ({len(well_distributed_features)}): suitable for correlation graphs\")\n",
    "    if well_distributed_features:\n",
    "        print(f\"  Sample: {well_distributed_features[:5]}{'...' if len(well_distributed_features) > 5 else ''}\")\n",
    "    \n",
    "    # Graph construction strategies\n",
    "    graph_strategies = {\n",
    "        'correlation_based': {\n",
    "            'description': 'Edges based on feature correlation',\n",
    "            'suitable_features': well_distributed_features[:20],\n",
    "            'threshold': 0.3,\n",
    "            'method': 'pearson_correlation'\n",
    "        },\n",
    "        'knn_based': {\n",
    "            'description': 'K-nearest neighbors in feature space',\n",
    "            'suitable_features': [f[0] for f in high_variance_features],\n",
    "            'k': 5,\n",
    "            'method': 'euclidean_distance'\n",
    "        },\n",
    "        'temporal_based': {\n",
    "            'description': 'Edges based on temporal proximity',\n",
    "            'suitable_features': graph_features['temporal_features'][:10],\n",
    "            'window_size': 60,  # seconds\n",
    "            'method': 'time_window'\n",
    "        }\n",
    "    }\n",
    "    \n",
    "    print(f\"\\n=== RECOMMENDED GRAPH CONSTRUCTION STRATEGIES ===\")\n",
    "    for strategy, config in graph_strategies.items():\n",
    "        print(f\"{strategy}:\")\n",
    "        print(f\"  Description: {config['description']}\")\n",
    "        print(f\"  Features: {len(config['suitable_features'])} selected\")\n",
    "        print(f\"  Method: {config['method']}\")\n",
    "    \n",
    "    return {\n",
    "        'graph_features': graph_features,\n",
    "        'feature_stats': feature_stats,\n",
    "        'graph_strategies': graph_strategies,\n",
    "        'high_variance_features': high_variance_features,\n",
    "        'well_distributed_features': well_distributed_features\n",
    "    }\n",
    "\n",
    "# Analyze graph construction features\n",
    "graph_analysis = analyze_graph_construction_features()"
   ]
  },
  {
   "cell_type": "code",
   "execution_count": 9,
   "id": "2160d0a6-edc8-41d3-971f-ca2a2063a581",
   "metadata": {},
   "outputs": [
    {
     "name": "stdout",
     "output_type": "stream",
     "text": [
      "=== FEATURE ENGINEERING RECOMMENDATIONS ===\n",
      "--- Preprocessing Recommendations ---\n",
      "Normalization required for 38 features\n",
      "Remove 37 highly correlated features\n",
      "Remove 10 zero-variance features\n",
      "\n",
      "--- Feature Creation Recommendations ---\n",
      "Create 24 forward/backward ratio features\n",
      "Create temporal aggregation features from 15 timing features\n",
      "Create interaction features from top 10 features\n",
      "Create polynomial features for top features\n",
      "\n",
      "--- Dimensionality Reduction Recommendations ---\n",
      "Apply PCA to reduce from 76 to ~38 features\n",
      "Remove 20 low-importance features\n",
      "\n",
      "--- Multi-Modal Fusion Recommendations ---\n",
      "Optimize branch feature allocation: CNN(20), Transformer(20), Graph(15)\n",
      "Implement cross-attention between all branch pairs\n",
      "Implement learnable feature embeddings\n",
      "Balance feature distribution across branches\n",
      "\n",
      "--- Graph Construction Recommendations ---\n",
      "correlation_based: 20 features with pearson_correlation\n",
      "knn_based: 10 features with euclidean_distance\n",
      "temporal_based: 8 features with time_window\n",
      "Implement hierarchical graph construction\n",
      "Implement dynamic graph updates\n",
      "Use 43 features for edge weights\n",
      "\n",
      "=== RECOMMENDATION SUMMARY ===\n",
      "Total recommendations: 19\n",
      "  preprocessing: 3 recommendations\n",
      "  feature_creation: 4 recommendations\n",
      "  dimensionality_reduction: 2 recommendations\n",
      "  multimodal_fusion: 4 recommendations\n",
      "  graph_construction: 6 recommendations\n"
     ]
    }
   ],
   "source": [
    "# Cell 9: Feature Engineering Recommendations\n",
    "def generate_feature_engineering_recommendations():\n",
    "    \"\"\"Generating recommendations for feature engineering and preprocessing\"\"\"\n",
    "    \n",
    "    print(\"=== FEATURE ENGINEERING RECOMMENDATIONS ===\")\n",
    "    \n",
    "    recommendations = {\n",
    "        'preprocessing': [],\n",
    "        'feature_creation': [],\n",
    "        'dimensionality_reduction': [],\n",
    "        'multimodal_fusion': [],\n",
    "        'graph_construction': []\n",
    "    }\n",
    "    \n",
    "    # Preprocessing recommendations\n",
    "    print(\"--- Preprocessing Recommendations ---\")\n",
    "    \n",
    "    # Checking for normalization needs\n",
    "    data_sample = correlation_analysis['data_sample']\n",
    "    feature_ranges = {}\n",
    "    for col in data_sample.columns:\n",
    "        feature_ranges[col] = {\n",
    "            'min': data_sample[col].min(),\n",
    "            'max': data_sample[col].max(),\n",
    "            'range': data_sample[col].max() - data_sample[col].min()\n",
    "        }\n",
    "    \n",
    "    # Features with very different scales\n",
    "    large_range_features = [f for f, r in feature_ranges.items() if r['range'] > 1e6]\n",
    "    small_range_features = [f for f, r in feature_ranges.items() if r['range'] < 1]\n",
    "    \n",
    "    if large_range_features or small_range_features:\n",
    "        recommendations['preprocessing'].append(\n",
    "            f\"NORMALIZATION NEEDED: {len(large_range_features)} features with large ranges, \"\n",
    "            f\"{len(small_range_features)} with small ranges\"\n",
    "        )\n",
    "        print(f\"Normalization required for {len(large_range_features + small_range_features)} features\")\n",
    "    \n",
    "    # High correlation removal\n",
    "    high_corr_count = len(correlation_analysis['high_corr_pairs'])\n",
    "    if high_corr_count > 10:\n",
    "        recommendations['preprocessing'].append(\n",
    "            f\"CORRELATION FILTERING: Remove {high_corr_count} highly correlated feature pairs\"\n",
    "        )\n",
    "        print(f\"Remove {high_corr_count} highly correlated features\")\n",
    "    \n",
    "    # Zero variance check\n",
    "    zero_var_features = [col for col in data_sample.columns if data_sample[col].std() < 1e-6]\n",
    "    if zero_var_features:\n",
    "        recommendations['preprocessing'].append(\n",
    "            f\"ZERO VARIANCE: Remove {len(zero_var_features)} features with zero/near-zero variance\"\n",
    "        )\n",
    "        print(f\"Remove {len(zero_var_features)} zero-variance features\")\n",
    "    \n",
    "    # Feature creation recommendations\n",
    "    print(\"\\n--- Feature Creation Recommendations ---\")\n",
    "    \n",
    "    # Ratio features\n",
    "    ratio_candidates = [f for f in data_sample.columns if 'fwd' in f.lower()]\n",
    "    bwd_candidates = [f for f in data_sample.columns if 'bwd' in f.lower()]\n",
    "    \n",
    "    if ratio_candidates and bwd_candidates:\n",
    "        recommendations['feature_creation'].append(\n",
    "            f\"CREATE RATIO FEATURES: {len(ratio_candidates)} fwd/{len(bwd_candidates)} bwd feature pairs\"\n",
    "        )\n",
    "        print(f\"Create {len(ratio_candidates)} forward/backward ratio features\")\n",
    "    \n",
    "    # Statistical aggregation features\n",
    "    timing_features = [f for f in data_sample.columns if any(term in f.lower() for term in ['iat', 'time', 'duration'])]\n",
    "    if len(timing_features) > 5:\n",
    "        recommendations['feature_creation'].append(\n",
    "            f\"TEMPORAL AGGREGATION: Create rolling statistics from {len(timing_features)} timing features\"\n",
    "        )\n",
    "        print(f\"Create temporal aggregation features from {len(timing_features)} timing features\")\n",
    "    \n",
    "    # Interaction features for important features\n",
    "    top_features = importance_analysis['combined_importance'].head(10)['feature'].tolist()\n",
    "    recommendations['feature_creation'].append(\n",
    "        f\"INTERACTION FEATURES: Create pairwise interactions from top {len(top_features)} important features\"\n",
    "    )\n",
    "    print(f\"Create interaction features from top {len(top_features)} features\")\n",
    "    \n",
    "    # Polynomial features\n",
    "    recommendations['feature_creation'].append(\n",
    "        \"POLYNOMIAL FEATURES: Create squared and cubed terms for top 5 features\"\n",
    "    )\n",
    "    print(f\"Create polynomial features for top features\")\n",
    "    \n",
    "    # Dimensionality reduction recommendations\n",
    "    print(\"\\n--- Dimensionality Reduction Recommendations ---\")\n",
    "    \n",
    "    total_features = len(data_sample.columns)\n",
    "    if total_features > 50:\n",
    "        recommendations['dimensionality_reduction'].append(\n",
    "            f\"PCA REDUCTION: Reduce from {total_features} to ~{total_features//2} features while retaining 95% variance\"\n",
    "        )\n",
    "        print(f\"Apply PCA to reduce from {total_features} to ~{total_features//2} features\")\n",
    "    \n",
    "    # Feature selection based on importance\n",
    "    low_importance_features = importance_analysis['combined_importance'].tail(20)['feature'].tolist()\n",
    "    recommendations['dimensionality_reduction'].append(\n",
    "        f\"IMPORTANCE FILTERING: Remove {len(low_importance_features)} low-importance features\"\n",
    "    )\n",
    "    print(f\"Remove {len(low_importance_features)} low-importance features\")\n",
    "    \n",
    "    # Variance-based filtering\n",
    "    low_variance_threshold = data_sample.var().quantile(0.1)\n",
    "    low_var_features = [col for col in data_sample.columns if data_sample[col].var() < low_variance_threshold]\n",
    "    if len(low_var_features) > 5:\n",
    "        recommendations['dimensionality_reduction'].append(\n",
    "            f\"VARIANCE FILTERING: Remove {len(low_var_features)} low-variance features\"\n",
    "        )\n",
    "        print(f\"Remove {len(low_var_features)} low-variance features\")\n",
    "    \n",
    "    # Multi-modal fusion recommendations\n",
    "    print(\"\\n--- Multi-Modal Fusion Recommendations ---\")\n",
    "    \n",
    "    branch_features = multimodal_design['refined_branch_features']\n",
    "    recommendations['multimodal_fusion'].append(\n",
    "        f\"BRANCH OPTIMIZATION: CNN({len(branch_features['cnn_branch'])}), \"\n",
    "        f\"Transformer({len(branch_features['transformer_branch'])}), \"\n",
    "        f\"Graph({len(branch_features['graph_branch'])}) features\"\n",
    "    )\n",
    "    print(f\"Optimize branch feature allocation: CNN({len(branch_features['cnn_branch'])}), \"\n",
    "          f\"Transformer({len(branch_features['transformer_branch'])}), Graph({len(branch_features['graph_branch'])})\")\n",
    "    \n",
    "    # Cross-attention recommendations\n",
    "    recommendations['multimodal_fusion'].append(\n",
    "        \"CROSS-ATTENTION: Implement attention between CNN-Transformer, Transformer-Graph, Graph-CNN pairs\"\n",
    "    )\n",
    "    print(f\"Implement cross-attention between all branch pairs\")\n",
    "    \n",
    "    # Feature embedding recommendations\n",
    "    recommendations['multimodal_fusion'].append(\n",
    "        \"FEATURE EMBEDDING: Use learnable embeddings for categorical features and feature importance weighting\"\n",
    "    )\n",
    "    print(f\"Implement learnable feature embeddings\")\n",
    "    \n",
    "    # Branch balancing\n",
    "    recommendations['multimodal_fusion'].append(\n",
    "        \"BRANCH BALANCING: Ensure similar feature count distribution across branches\"\n",
    "    )\n",
    "    print(f\"Balance feature distribution across branches\")\n",
    "    \n",
    "    # Graph construction recommendations\n",
    "    print(\"\\n--- Graph Construction Recommendations ---\")\n",
    "    \n",
    "    graph_strategies = graph_analysis['graph_strategies']\n",
    "    for strategy, config in graph_strategies.items():\n",
    "        recommendations['graph_construction'].append(\n",
    "            f\"{strategy.upper()}: Use {len(config['suitable_features'])} features with {config['method']}\"\n",
    "        )\n",
    "        print(f\"{strategy}: {len(config['suitable_features'])} features with {config['method']}\")\n",
    "    \n",
    "    # Multi-level graph recommendation\n",
    "    recommendations['graph_construction'].append(\n",
    "        \"HIERARCHICAL GRAPHS: Create flow-level and packet-level graphs with cross-level edges\"\n",
    "    )\n",
    "    print(f\"Implement hierarchical graph construction\")\n",
    "    \n",
    "    # Dynamic graph recommendation\n",
    "    recommendations['graph_construction'].append(\n",
    "        \"DYNAMIC GRAPHS: Update graph structure based on temporal patterns\"\n",
    "    )\n",
    "    print(f\"Implement dynamic graph updates\")\n",
    "    \n",
    "    # Edge feature engineering\n",
    "    edge_candidates = [f for f in data_sample.columns if any(term in f.lower() for term in ['iat', 'flow', 'packet'])]\n",
    "    recommendations['graph_construction'].append(\n",
    "        f\"EDGE FEATURES: Use {len(edge_candidates)} features for edge weight calculation\"\n",
    "    )\n",
    "    print(f\"Use {len(edge_candidates)} features for edge weights\")\n",
    "    \n",
    "    # Summary statistics\n",
    "    print(f\"\\n=== RECOMMENDATION SUMMARY ===\")\n",
    "    print(f\"Total recommendations: {sum(len(v) for v in recommendations.values())}\")\n",
    "    for category, recs in recommendations.items():\n",
    "        print(f\"  {category}: {len(recs)} recommendations\")\n",
    "    \n",
    "    return recommendations\n",
    "\n",
    "# Generating comprehensive recommendations\n",
    "engineering_recommendations = generate_feature_engineering_recommendations()"
   ]
  },
  {
   "cell_type": "code",
   "execution_count": 10,
   "id": "a43da778-bd74-42ba-903f-36ee6dbe40ab",
   "metadata": {},
   "outputs": [
    {
     "name": "stdout",
     "output_type": "stream",
     "text": [
      "=== CREATING ADVANCED VISUALIZATIONS ===\n",
      "Creating feature importance visualization...\n"
     ]
    },
    {
     "data": {
      "application/vnd.plotly.v1+json": {
       "config": {
        "plotlyServerURL": "https://plot.ly"
       },
       "data": [
        {
         "name": "Combined Score",
         "showlegend": false,
         "type": "bar",
         "x": [
          "Fwd Seg Size Min",
          "Bwd Packets/s",
          "Flow Bytes/s",
          "Bwd Header Length",
          "Flow Packets/s",
          "Fwd Packets/s",
          "Packet Length Max",
          "Fwd Header Length",
          "FWD Init Win Bytes",
          "Bwd Init Win Bytes",
          "Fwd Packet Length Max",
          "Packet Length Mean",
          "Fwd Segment Size Avg",
          "Fwd Packet Length Mean",
          "Flow IAT Mean",
          "Average Packet Size",
          "Fwd IAT Min",
          "Flow IAT Std",
          "Total Fwd Packet",
          "ACK Flag Count"
         ],
         "xaxis": "x",
         "y": {
          "bdata": "eZMHufmb5z88Zsic43/lPxhluJ3X9+A/ZxCx535W4D+sP25vo1bfP27sEz2MOt8/O1JFDseN3j/gOieFqgndPx94ZkJwNNw/s0L/MOkw3D+hwA/K/17bP853kxP6FNo/dKNLuajG2T8YBlYuEcDZP6ro40osetk/SPaJYj3q2D+K0ijEuNDYP51RGb5yldg/v/0xuiyQ2D/0bkZzOVLYPw==",
          "dtype": "f8"
         },
         "yaxis": "y"
        },
        {
         "colorscale": [
          [
           0,
           "rgb(103,0,31)"
          ],
          [
           0.1,
           "rgb(178,24,43)"
          ],
          [
           0.2,
           "rgb(214,96,77)"
          ],
          [
           0.3,
           "rgb(244,165,130)"
          ],
          [
           0.4,
           "rgb(253,219,199)"
          ],
          [
           0.5,
           "rgb(247,247,247)"
          ],
          [
           0.6,
           "rgb(209,229,240)"
          ],
          [
           0.7,
           "rgb(146,197,222)"
          ],
          [
           0.8,
           "rgb(67,147,195)"
          ],
          [
           0.9,
           "rgb(33,102,172)"
          ],
          [
           1,
           "rgb(5,48,97)"
          ]
         ],
         "showscale": false,
         "type": "heatmap",
         "x": [
          "Fwd Seg Size Min",
          "Bwd Packets/s",
          "Flow Bytes/s",
          "Bwd Header Length",
          "Flow Packets/s",
          "Fwd Packets/s",
          "Packet Length Max",
          "Fwd Header Length",
          "FWD Init Win Bytes",
          "Bwd Init Win Bytes",
          "Fwd Packet Length Max",
          "Packet Length Mean",
          "Fwd Segment Size Avg",
          "Fwd Packet Length Mean",
          "Flow IAT Mean",
          "Average Packet Size",
          "Fwd IAT Min",
          "Flow IAT Std",
          "Total Fwd Packet",
          "ACK Flag Count"
         ],
         "xaxis": "x2",
         "y": [
          "Fwd Seg Size Min",
          "Bwd Packets/s",
          "Flow Bytes/s",
          "Bwd Header Length",
          "Flow Packets/s",
          "Fwd Packets/s",
          "Packet Length Max",
          "Fwd Header Length",
          "FWD Init Win Bytes",
          "Bwd Init Win Bytes",
          "Fwd Packet Length Max",
          "Packet Length Mean",
          "Fwd Segment Size Avg",
          "Fwd Packet Length Mean",
          "Flow IAT Mean",
          "Average Packet Size",
          "Fwd IAT Min",
          "Flow IAT Std",
          "Total Fwd Packet",
          "ACK Flag Count"
         ],
         "yaxis": "y2",
         "z": {
          "bdata": "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",
          "dtype": "f8",
          "shape": "20, 20"
         },
         "zmid": 0
        },
        {
         "domain": {
          "x": [
           0,
           0.45
          ],
          "y": [
           0,
           0.375
          ]
         },
         "labels": {
          "bdata": "AAQFBwMGCAIBCQ==",
          "dtype": "i1"
         },
         "showlegend": false,
         "type": "pie",
         "values": {
          "bdata": "xQ9yARcBtgA9AC4ACwAHAAUAAgA=",
          "dtype": "i2"
         }
        },
        {
         "name": "Fwd Seg Size Mi",
         "showlegend": false,
         "type": "box",
         "xaxis": "x3",
         "y": {
          "bdata": "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",
          "dtype": "f8"
         },
         "yaxis": "y3"
        },
        {
         "name": "Bwd Packets/s",
         "showlegend": false,
         "type": "box",
         "xaxis": "x3",
         "y": {
          "bdata": "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",
          "dtype": "f8"
         },
         "yaxis": "y3"
        },
        {
         "name": "Flow Bytes/s",
         "showlegend": false,
         "type": "box",
         "xaxis": "x3",
         "y": {
          "bdata": "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",
          "dtype": "f8"
         },
         "yaxis": "y3"
        },
        {
         "name": "Bwd Header Leng",
         "showlegend": false,
         "type": "box",
         "xaxis": "x3",
         "y": {
          "bdata": "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",
          "dtype": "f8"
         },
         "yaxis": "y3"
        },
        {
         "name": "Flow Packets/s",
         "showlegend": false,
         "type": "box",
         "xaxis": "x3",
         "y": {
          "bdata": "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",
          "dtype": "f8"
         },
         "yaxis": "y3"
        }
       ],
       "layout": {
        "annotations": [
         {
          "font": {
           "size": 16
          },
          "showarrow": false,
          "text": "Feature Importance Comparison",
          "x": 0.225,
          "xanchor": "center",
          "xref": "paper",
          "y": 1,
          "yanchor": "bottom",
          "yref": "paper"
         },
         {
          "font": {
           "size": 16
          },
          "showarrow": false,
          "text": "Feature Correlation Heatmap",
          "x": 0.775,
          "xanchor": "center",
          "xref": "paper",
          "y": 1,
          "yanchor": "bottom",
          "yref": "paper"
         },
         {
          "font": {
           "size": 16
          },
          "showarrow": false,
          "text": "Class Distribution",
          "x": 0.225,
          "xanchor": "center",
          "xref": "paper",
          "y": 0.375,
          "yanchor": "bottom",
          "yref": "paper"
         },
         {
          "font": {
           "size": 16
          },
          "showarrow": false,
          "text": "Feature Range Analysis",
          "x": 0.775,
          "xanchor": "center",
          "xref": "paper",
          "y": 0.375,
          "yanchor": "bottom",
          "yref": "paper"
         }
        ],
        "height": 800,
        "template": {
         "data": {
          "bar": [
           {
            "error_x": {
             "color": "#2a3f5f"
            },
            "error_y": {
             "color": "#2a3f5f"
            },
            "marker": {
             "line": {
              "color": "#E5ECF6",
              "width": 0.5
             },
             "pattern": {
              "fillmode": "overlay",
              "size": 10,
              "solidity": 0.2
             }
            },
            "type": "bar"
           }
          ],
          "barpolar": [
           {
            "marker": {
             "line": {
              "color": "#E5ECF6",
              "width": 0.5
             },
             "pattern": {
              "fillmode": "overlay",
              "size": 10,
              "solidity": 0.2
             }
            },
            "type": "barpolar"
           }
          ],
          "carpet": [
           {
            "aaxis": {
             "endlinecolor": "#2a3f5f",
             "gridcolor": "white",
             "linecolor": "white",
             "minorgridcolor": "white",
             "startlinecolor": "#2a3f5f"
            },
            "baxis": {
             "endlinecolor": "#2a3f5f",
             "gridcolor": "white",
             "linecolor": "white",
             "minorgridcolor": "white",
             "startlinecolor": "#2a3f5f"
            },
            "type": "carpet"
           }
          ],
          "choropleth": [
           {
            "colorbar": {
             "outlinewidth": 0,
             "ticks": ""
            },
            "type": "choropleth"
           }
          ],
          "contour": [
           {
            "colorbar": {
             "outlinewidth": 0,
             "ticks": ""
            },
            "colorscale": [
             [
              0,
              "#0d0887"
             ],
             [
              0.1111111111111111,
              "#46039f"
             ],
             [
              0.2222222222222222,
              "#7201a8"
             ],
             [
              0.3333333333333333,
              "#9c179e"
             ],
             [
              0.4444444444444444,
              "#bd3786"
             ],
             [
              0.5555555555555556,
              "#d8576b"
             ],
             [
              0.6666666666666666,
              "#ed7953"
             ],
             [
              0.7777777777777778,
              "#fb9f3a"
             ],
             [
              0.8888888888888888,
              "#fdca26"
             ],
             [
              1,
              "#f0f921"
             ]
            ],
            "type": "contour"
           }
          ],
          "contourcarpet": [
           {
            "colorbar": {
             "outlinewidth": 0,
             "ticks": ""
            },
            "type": "contourcarpet"
           }
          ],
          "heatmap": [
           {
            "colorbar": {
             "outlinewidth": 0,
             "ticks": ""
            },
            "colorscale": [
             [
              0,
              "#0d0887"
             ],
             [
              0.1111111111111111,
              "#46039f"
             ],
             [
              0.2222222222222222,
              "#7201a8"
             ],
             [
              0.3333333333333333,
              "#9c179e"
             ],
             [
              0.4444444444444444,
              "#bd3786"
             ],
             [
              0.5555555555555556,
              "#d8576b"
             ],
             [
              0.6666666666666666,
              "#ed7953"
             ],
             [
              0.7777777777777778,
              "#fb9f3a"
             ],
             [
              0.8888888888888888,
              "#fdca26"
             ],
             [
              1,
              "#f0f921"
             ]
            ],
            "type": "heatmap"
           }
          ],
          "histogram": [
           {
            "marker": {
             "pattern": {
              "fillmode": "overlay",
              "size": 10,
              "solidity": 0.2
             }
            },
            "type": "histogram"
           }
          ],
          "histogram2d": [
           {
            "colorbar": {
             "outlinewidth": 0,
             "ticks": ""
            },
            "colorscale": [
             [
              0,
              "#0d0887"
             ],
             [
              0.1111111111111111,
              "#46039f"
             ],
             [
              0.2222222222222222,
              "#7201a8"
             ],
             [
              0.3333333333333333,
              "#9c179e"
             ],
             [
              0.4444444444444444,
              "#bd3786"
             ],
             [
              0.5555555555555556,
              "#d8576b"
             ],
             [
              0.6666666666666666,
              "#ed7953"
             ],
             [
              0.7777777777777778,
              "#fb9f3a"
             ],
             [
              0.8888888888888888,
              "#fdca26"
             ],
             [
              1,
              "#f0f921"
             ]
            ],
            "type": "histogram2d"
           }
          ],
          "histogram2dcontour": [
           {
            "colorbar": {
             "outlinewidth": 0,
             "ticks": ""
            },
            "colorscale": [
             [
              0,
              "#0d0887"
             ],
             [
              0.1111111111111111,
              "#46039f"
             ],
             [
              0.2222222222222222,
              "#7201a8"
             ],
             [
              0.3333333333333333,
              "#9c179e"
             ],
             [
              0.4444444444444444,
              "#bd3786"
             ],
             [
              0.5555555555555556,
              "#d8576b"
             ],
             [
              0.6666666666666666,
              "#ed7953"
             ],
             [
              0.7777777777777778,
              "#fb9f3a"
             ],
             [
              0.8888888888888888,
              "#fdca26"
             ],
             [
              1,
              "#f0f921"
             ]
            ],
            "type": "histogram2dcontour"
           }
          ],
          "mesh3d": [
           {
            "colorbar": {
             "outlinewidth": 0,
             "ticks": ""
            },
            "type": "mesh3d"
           }
          ],
          "parcoords": [
           {
            "line": {
             "colorbar": {
              "outlinewidth": 0,
              "ticks": ""
             }
            },
            "type": "parcoords"
           }
          ],
          "pie": [
           {
            "automargin": true,
            "type": "pie"
           }
          ],
          "scatter": [
           {
            "fillpattern": {
             "fillmode": "overlay",
             "size": 10,
             "solidity": 0.2
            },
            "type": "scatter"
           }
          ],
          "scatter3d": [
           {
            "line": {
             "colorbar": {
              "outlinewidth": 0,
              "ticks": ""
             }
            },
            "marker": {
             "colorbar": {
              "outlinewidth": 0,
              "ticks": ""
             }
            },
            "type": "scatter3d"
           }
          ],
          "scattercarpet": [
           {
            "marker": {
             "colorbar": {
              "outlinewidth": 0,
              "ticks": ""
             }
            },
            "type": "scattercarpet"
           }
          ],
          "scattergeo": [
           {
            "marker": {
             "colorbar": {
              "outlinewidth": 0,
              "ticks": ""
             }
            },
            "type": "scattergeo"
           }
          ],
          "scattergl": [
           {
            "marker": {
             "colorbar": {
              "outlinewidth": 0,
              "ticks": ""
             }
            },
            "type": "scattergl"
           }
          ],
          "scattermap": [
           {
            "marker": {
             "colorbar": {
              "outlinewidth": 0,
              "ticks": ""
             }
            },
            "type": "scattermap"
           }
          ],
          "scattermapbox": [
           {
            "marker": {
             "colorbar": {
              "outlinewidth": 0,
              "ticks": ""
             }
            },
            "type": "scattermapbox"
           }
          ],
          "scatterpolar": [
           {
            "marker": {
             "colorbar": {
              "outlinewidth": 0,
              "ticks": ""
             }
            },
            "type": "scatterpolar"
           }
          ],
          "scatterpolargl": [
           {
            "marker": {
             "colorbar": {
              "outlinewidth": 0,
              "ticks": ""
             }
            },
            "type": "scatterpolargl"
           }
          ],
          "scatterternary": [
           {
            "marker": {
             "colorbar": {
              "outlinewidth": 0,
              "ticks": ""
             }
            },
            "type": "scatterternary"
           }
          ],
          "surface": [
           {
            "colorbar": {
             "outlinewidth": 0,
             "ticks": ""
            },
            "colorscale": [
             [
              0,
              "#0d0887"
             ],
             [
              0.1111111111111111,
              "#46039f"
             ],
             [
              0.2222222222222222,
              "#7201a8"
             ],
             [
              0.3333333333333333,
              "#9c179e"
             ],
             [
              0.4444444444444444,
              "#bd3786"
             ],
             [
              0.5555555555555556,
              "#d8576b"
             ],
             [
              0.6666666666666666,
              "#ed7953"
             ],
             [
              0.7777777777777778,
              "#fb9f3a"
             ],
             [
              0.8888888888888888,
              "#fdca26"
             ],
             [
              1,
              "#f0f921"
             ]
            ],
            "type": "surface"
           }
          ],
          "table": [
           {
            "cells": {
             "fill": {
              "color": "#EBF0F8"
             },
             "line": {
              "color": "white"
             }
            },
            "header": {
             "fill": {
              "color": "#C8D4E3"
             },
             "line": {
              "color": "white"
             }
            },
            "type": "table"
           }
          ]
         },
         "layout": {
          "annotationdefaults": {
           "arrowcolor": "#2a3f5f",
           "arrowhead": 0,
           "arrowwidth": 1
          },
          "autotypenumbers": "strict",
          "coloraxis": {
           "colorbar": {
            "outlinewidth": 0,
            "ticks": ""
           }
          },
          "colorscale": {
           "diverging": [
            [
             0,
             "#8e0152"
            ],
            [
             0.1,
             "#c51b7d"
            ],
            [
             0.2,
             "#de77ae"
            ],
            [
             0.3,
             "#f1b6da"
            ],
            [
             0.4,
             "#fde0ef"
            ],
            [
             0.5,
             "#f7f7f7"
            ],
            [
             0.6,
             "#e6f5d0"
            ],
            [
             0.7,
             "#b8e186"
            ],
            [
             0.8,
             "#7fbc41"
            ],
            [
             0.9,
             "#4d9221"
            ],
            [
             1,
             "#276419"
            ]
           ],
           "sequential": [
            [
             0,
             "#0d0887"
            ],
            [
             0.1111111111111111,
             "#46039f"
            ],
            [
             0.2222222222222222,
             "#7201a8"
            ],
            [
             0.3333333333333333,
             "#9c179e"
            ],
            [
             0.4444444444444444,
             "#bd3786"
            ],
            [
             0.5555555555555556,
             "#d8576b"
            ],
            [
             0.6666666666666666,
             "#ed7953"
            ],
            [
             0.7777777777777778,
             "#fb9f3a"
            ],
            [
             0.8888888888888888,
             "#fdca26"
            ],
            [
             1,
             "#f0f921"
            ]
           ],
           "sequentialminus": [
            [
             0,
             "#0d0887"
            ],
            [
             0.1111111111111111,
             "#46039f"
            ],
            [
             0.2222222222222222,
             "#7201a8"
            ],
            [
             0.3333333333333333,
             "#9c179e"
            ],
            [
             0.4444444444444444,
             "#bd3786"
            ],
            [
             0.5555555555555556,
             "#d8576b"
            ],
            [
             0.6666666666666666,
             "#ed7953"
            ],
            [
             0.7777777777777778,
             "#fb9f3a"
            ],
            [
             0.8888888888888888,
             "#fdca26"
            ],
            [
             1,
             "#f0f921"
            ]
           ]
          },
          "colorway": [
           "#636efa",
           "#EF553B",
           "#00cc96",
           "#ab63fa",
           "#FFA15A",
           "#19d3f3",
           "#FF6692",
           "#B6E880",
           "#FF97FF",
           "#FECB52"
          ],
          "font": {
           "color": "#2a3f5f"
          },
          "geo": {
           "bgcolor": "white",
           "lakecolor": "white",
           "landcolor": "#E5ECF6",
           "showlakes": true,
           "showland": true,
           "subunitcolor": "white"
          },
          "hoverlabel": {
           "align": "left"
          },
          "hovermode": "closest",
          "mapbox": {
           "style": "light"
          },
          "paper_bgcolor": "white",
          "plot_bgcolor": "#E5ECF6",
          "polar": {
           "angularaxis": {
            "gridcolor": "white",
            "linecolor": "white",
            "ticks": ""
           },
           "bgcolor": "#E5ECF6",
           "radialaxis": {
            "gridcolor": "white",
            "linecolor": "white",
            "ticks": ""
           }
          },
          "scene": {
           "xaxis": {
            "backgroundcolor": "#E5ECF6",
            "gridcolor": "white",
            "gridwidth": 2,
            "linecolor": "white",
            "showbackground": true,
            "ticks": "",
            "zerolinecolor": "white"
           },
           "yaxis": {
            "backgroundcolor": "#E5ECF6",
            "gridcolor": "white",
            "gridwidth": 2,
            "linecolor": "white",
            "showbackground": true,
            "ticks": "",
            "zerolinecolor": "white"
           },
           "zaxis": {
            "backgroundcolor": "#E5ECF6",
            "gridcolor": "white",
            "gridwidth": 2,
            "linecolor": "white",
            "showbackground": true,
            "ticks": "",
            "zerolinecolor": "white"
           }
          },
          "shapedefaults": {
           "line": {
            "color": "#2a3f5f"
           }
          },
          "ternary": {
           "aaxis": {
            "gridcolor": "white",
            "linecolor": "white",
            "ticks": ""
           },
           "baxis": {
            "gridcolor": "white",
            "linecolor": "white",
            "ticks": ""
           },
           "bgcolor": "#E5ECF6",
           "caxis": {
            "gridcolor": "white",
            "linecolor": "white",
            "ticks": ""
           }
          },
          "title": {
           "x": 0.05
          },
          "xaxis": {
           "automargin": true,
           "gridcolor": "white",
           "linecolor": "white",
           "ticks": "",
           "title": {
            "standoff": 15
           },
           "zerolinecolor": "white",
           "zerolinewidth": 2
          },
          "yaxis": {
           "automargin": true,
           "gridcolor": "white",
           "linecolor": "white",
           "ticks": "",
           "title": {
            "standoff": 15
           },
           "zerolinecolor": "white",
           "zerolinewidth": 2
          }
         }
        },
        "title": {
         "text": "Comprehensive Feature Analysis Dashboard"
        },
        "xaxis": {
         "anchor": "y",
         "domain": [
          0,
          0.45
         ],
         "tickangle": 45
        },
        "xaxis2": {
         "anchor": "y2",
         "domain": [
          0.55,
          1
         ]
        },
        "xaxis3": {
         "anchor": "y3",
         "domain": [
          0.55,
          1
         ]
        },
        "yaxis": {
         "anchor": "x",
         "domain": [
          0.625,
          1
         ]
        },
        "yaxis2": {
         "anchor": "x2",
         "domain": [
          0.625,
          1
         ]
        },
        "yaxis3": {
         "anchor": "x3",
         "domain": [
          0,
          0.375
         ]
        }
       }
      },
      "image/png": "[encoded data removed]"
     },
     "metadata": {},
     "output_type": "display_data"
    },
    {
     "name": "stdout",
     "output_type": "stream",
     "text": [
      "Creating branch feature distribution...\n"
     ]
    },
    {
     "data": {
      "application/vnd.plotly.v1+json": {
       "config": {
        "plotlyServerURL": "https://plot.ly"
       },
       "data": [
        {
         "marker": {
          "color": [
           0.3825778938208727,
           0.3076039582514422,
           0.3990699278262232
          ],
          "colorbar": {
           "title": {
            "text": "Avg Importance"
           }
          },
          "colorscale": [
           [
            0,
            "#440154"
           ],
           [
            0.1111111111111111,
            "#482878"
           ],
           [
            0.2222222222222222,
            "#3e4989"
           ],
           [
            0.3333333333333333,
            "#31688e"
           ],
           [
            0.4444444444444444,
            "#26828e"
           ],
           [
            0.5555555555555556,
            "#1f9e89"
           ],
           [
            0.6666666666666666,
            "#35b779"
           ],
           [
            0.7777777777777778,
            "#6ece58"
           ],
           [
            0.8888888888888888,
            "#b5de2b"
           ],
           [
            1,
            "#fde725"
           ]
          ],
          "showscale": true,
          "size": [
           40,
           40,
           30
          ]
         },
         "mode": "markers+text",
         "name": "Branches",
         "text": [
          "CNN",
          "TRANSFORMER",
          "GRAPH"
         ],
         "textposition": "middle center",
         "type": "scatter",
         "x": [
          20,
          20,
          15
         ],
         "y": [
          0.3825778938208727,
          0.3076039582514422,
          0.3990699278262232
         ]
        }
       ],
       "layout": {
        "showlegend": false,
        "template": {
         "data": {
          "bar": [
           {
            "error_x": {
             "color": "#2a3f5f"
            },
            "error_y": {
             "color": "#2a3f5f"
            },
            "marker": {
             "line": {
              "color": "#E5ECF6",
              "width": 0.5
             },
             "pattern": {
              "fillmode": "overlay",
              "size": 10,
              "solidity": 0.2
             }
            },
            "type": "bar"
           }
          ],
          "barpolar": [
           {
            "marker": {
             "line": {
              "color": "#E5ECF6",
              "width": 0.5
             },
             "pattern": {
              "fillmode": "overlay",
              "size": 10,
              "solidity": 0.2
             }
            },
            "type": "barpolar"
           }
          ],
          "carpet": [
           {
            "aaxis": {
             "endlinecolor": "#2a3f5f",
             "gridcolor": "white",
             "linecolor": "white",
             "minorgridcolor": "white",
             "startlinecolor": "#2a3f5f"
            },
            "baxis": {
             "endlinecolor": "#2a3f5f",
             "gridcolor": "white",
             "linecolor": "white",
             "minorgridcolor": "white",
             "startlinecolor": "#2a3f5f"
            },
            "type": "carpet"
           }
          ],
          "choropleth": [
           {
            "colorbar": {
             "outlinewidth": 0,
             "ticks": ""
            },
            "type": "choropleth"
           }
          ],
          "contour": [
           {
            "colorbar": {
             "outlinewidth": 0,
             "ticks": ""
            },
            "colorscale": [
             [
              0,
              "#0d0887"
             ],
             [
              0.1111111111111111,
              "#46039f"
             ],
             [
              0.2222222222222222,
              "#7201a8"
             ],
             [
              0.3333333333333333,
              "#9c179e"
             ],
             [
              0.4444444444444444,
              "#bd3786"
             ],
             [
              0.5555555555555556,
              "#d8576b"
             ],
             [
              0.6666666666666666,
              "#ed7953"
             ],
             [
              0.7777777777777778,
              "#fb9f3a"
             ],
             [
              0.8888888888888888,
              "#fdca26"
             ],
             [
              1,
              "#f0f921"
             ]
            ],
            "type": "contour"
           }
          ],
          "contourcarpet": [
           {
            "colorbar": {
             "outlinewidth": 0,
             "ticks": ""
            },
            "type": "contourcarpet"
           }
          ],
          "heatmap": [
           {
            "colorbar": {
             "outlinewidth": 0,
             "ticks": ""
            },
            "colorscale": [
             [
              0,
              "#0d0887"
             ],
             [
              0.1111111111111111,
              "#46039f"
             ],
             [
              0.2222222222222222,
              "#7201a8"
             ],
             [
              0.3333333333333333,
              "#9c179e"
             ],
             [
              0.4444444444444444,
              "#bd3786"
             ],
             [
              0.5555555555555556,
              "#d8576b"
             ],
             [
              0.6666666666666666,
              "#ed7953"
             ],
             [
              0.7777777777777778,
              "#fb9f3a"
             ],
             [
              0.8888888888888888,
              "#fdca26"
             ],
             [
              1,
              "#f0f921"
             ]
            ],
            "type": "heatmap"
           }
          ],
          "histogram": [
           {
            "marker": {
             "pattern": {
              "fillmode": "overlay",
              "size": 10,
              "solidity": 0.2
             }
            },
            "type": "histogram"
           }
          ],
          "histogram2d": [
           {
            "colorbar": {
             "outlinewidth": 0,
             "ticks": ""
            },
            "colorscale": [
             [
              0,
              "#0d0887"
             ],
             [
              0.1111111111111111,
              "#46039f"
             ],
             [
              0.2222222222222222,
              "#7201a8"
             ],
             [
              0.3333333333333333,
              "#9c179e"
             ],
             [
              0.4444444444444444,
              "#bd3786"
             ],
             [
              0.5555555555555556,
              "#d8576b"
             ],
             [
              0.6666666666666666,
              "#ed7953"
             ],
             [
              0.7777777777777778,
              "#fb9f3a"
             ],
             [
              0.8888888888888888,
              "#fdca26"
             ],
             [
              1,
              "#f0f921"
             ]
            ],
            "type": "histogram2d"
           }
          ],
          "histogram2dcontour": [
           {
            "colorbar": {
             "outlinewidth": 0,
             "ticks": ""
            },
            "colorscale": [
             [
              0,
              "#0d0887"
             ],
             [
              0.1111111111111111,
              "#46039f"
             ],
             [
              0.2222222222222222,
              "#7201a8"
             ],
             [
              0.3333333333333333,
              "#9c179e"
             ],
             [
              0.4444444444444444,
              "#bd3786"
             ],
             [
              0.5555555555555556,
              "#d8576b"
             ],
             [
              0.6666666666666666,
              "#ed7953"
             ],
             [
              0.7777777777777778,
              "#fb9f3a"
             ],
             [
              0.8888888888888888,
              "#fdca26"
             ],
             [
              1,
              "#f0f921"
             ]
            ],
            "type": "histogram2dcontour"
           }
          ],
          "mesh3d": [
           {
            "colorbar": {
             "outlinewidth": 0,
             "ticks": ""
            },
            "type": "mesh3d"
           }
          ],
          "parcoords": [
           {
            "line": {
             "colorbar": {
              "outlinewidth": 0,
              "ticks": ""
             }
            },
            "type": "parcoords"
           }
          ],
          "pie": [
           {
            "automargin": true,
            "type": "pie"
           }
          ],
          "scatter": [
           {
            "fillpattern": {
             "fillmode": "overlay",
             "size": 10,
             "solidity": 0.2
            },
            "type": "scatter"
           }
          ],
          "scatter3d": [
           {
            "line": {
             "colorbar": {
              "outlinewidth": 0,
              "ticks": ""
             }
            },
            "marker": {
             "colorbar": {
              "outlinewidth": 0,
              "ticks": ""
             }
            },
            "type": "scatter3d"
           }
          ],
          "scattercarpet": [
           {
            "marker": {
             "colorbar": {
              "outlinewidth": 0,
              "ticks": ""
             }
            },
            "type": "scattercarpet"
           }
          ],
          "scattergeo": [
           {
            "marker": {
             "colorbar": {
              "outlinewidth": 0,
              "ticks": ""
             }
            },
            "type": "scattergeo"
           }
          ],
          "scattergl": [
           {
            "marker": {
             "colorbar": {
              "outlinewidth": 0,
              "ticks": ""
             }
            },
            "type": "scattergl"
           }
          ],
          "scattermap": [
           {
            "marker": {
             "colorbar": {
              "outlinewidth": 0,
              "ticks": ""
             }
            },
            "type": "scattermap"
           }
          ],
          "scattermapbox": [
           {
            "marker": {
             "colorbar": {
              "outlinewidth": 0,
              "ticks": ""
             }
            },
            "type": "scattermapbox"
           }
          ],
          "scatterpolar": [
           {
            "marker": {
             "colorbar": {
              "outlinewidth": 0,
              "ticks": ""
             }
            },
            "type": "scatterpolar"
           }
          ],
          "scatterpolargl": [
           {
            "marker": {
             "colorbar": {
              "outlinewidth": 0,
              "ticks": ""
             }
            },
            "type": "scatterpolargl"
           }
          ],
          "scatterternary": [
           {
            "marker": {
             "colorbar": {
              "outlinewidth": 0,
              "ticks": ""
             }
            },
            "type": "scatterternary"
           }
          ],
          "surface": [
           {
            "colorbar": {
             "outlinewidth": 0,
             "ticks": ""
            },
            "colorscale": [
             [
              0,
              "#0d0887"
             ],
             [
              0.1111111111111111,
              "#46039f"
             ],
             [
              0.2222222222222222,
              "#7201a8"
             ],
             [
              0.3333333333333333,
              "#9c179e"
             ],
             [
              0.4444444444444444,
              "#bd3786"
             ],
             [
              0.5555555555555556,
              "#d8576b"
             ],
             [
              0.6666666666666666,
              "#ed7953"
             ],
             [
              0.7777777777777778,
              "#fb9f3a"
             ],
             [
              0.8888888888888888,
              "#fdca26"
             ],
             [
              1,
              "#f0f921"
             ]
            ],
            "type": "surface"
           }
          ],
          "table": [
           {
            "cells": {
             "fill": {
              "color": "#EBF0F8"
             },
             "line": {
              "color": "white"
             }
            },
            "header": {
             "fill": {
              "color": "#C8D4E3"
             },
             "line": {
              "color": "white"
             }
            },
            "type": "table"
           }
          ]
         },
         "layout": {
          "annotationdefaults": {
           "arrowcolor": "#2a3f5f",
           "arrowhead": 0,
           "arrowwidth": 1
          },
          "autotypenumbers": "strict",
          "coloraxis": {
           "colorbar": {
            "outlinewidth": 0,
            "ticks": ""
           }
          },
          "colorscale": {
           "diverging": [
            [
             0,
             "#8e0152"
            ],
            [
             0.1,
             "#c51b7d"
            ],
            [
             0.2,
             "#de77ae"
            ],
            [
             0.3,
             "#f1b6da"
            ],
            [
             0.4,
             "#fde0ef"
            ],
            [
             0.5,
             "#f7f7f7"
            ],
            [
             0.6,
             "#e6f5d0"
            ],
            [
             0.7,
             "#b8e186"
            ],
            [
             0.8,
             "#7fbc41"
            ],
            [
             0.9,
             "#4d9221"
            ],
            [
             1,
             "#276419"
            ]
           ],
           "sequential": [
            [
             0,
             "#0d0887"
            ],
            [
             0.1111111111111111,
             "#46039f"
            ],
            [
             0.2222222222222222,
             "#7201a8"
            ],
            [
             0.3333333333333333,
             "#9c179e"
            ],
            [
             0.4444444444444444,
             "#bd3786"
            ],
            [
             0.5555555555555556,
             "#d8576b"
            ],
            [
             0.6666666666666666,
             "#ed7953"
            ],
            [
             0.7777777777777778,
             "#fb9f3a"
            ],
            [
             0.8888888888888888,
             "#fdca26"
            ],
            [
             1,
             "#f0f921"
            ]
           ],
           "sequentialminus": [
            [
             0,
             "#0d0887"
            ],
            [
             0.1111111111111111,
             "#46039f"
            ],
            [
             0.2222222222222222,
             "#7201a8"
            ],
            [
             0.3333333333333333,
             "#9c179e"
            ],
            [
             0.4444444444444444,
             "#bd3786"
            ],
            [
             0.5555555555555556,
             "#d8576b"
            ],
            [
             0.6666666666666666,
             "#ed7953"
            ],
            [
             0.7777777777777778,
             "#fb9f3a"
            ],
            [
             0.8888888888888888,
             "#fdca26"
            ],
            [
             1,
             "#f0f921"
            ]
           ]
          },
          "colorway": [
           "#636efa",
           "#EF553B",
           "#00cc96",
           "#ab63fa",
           "#FFA15A",
           "#19d3f3",
           "#FF6692",
           "#B6E880",
           "#FF97FF",
           "#FECB52"
          ],
          "font": {
           "color": "#2a3f5f"
          },
          "geo": {
           "bgcolor": "white",
           "lakecolor": "white",
           "landcolor": "#E5ECF6",
           "showlakes": true,
           "showland": true,
           "subunitcolor": "white"
          },
          "hoverlabel": {
           "align": "left"
          },
          "hovermode": "closest",
          "mapbox": {
           "style": "light"
          },
          "paper_bgcolor": "white",
          "plot_bgcolor": "#E5ECF6",
          "polar": {
           "angularaxis": {
            "gridcolor": "white",
            "linecolor": "white",
            "ticks": ""
           },
           "bgcolor": "#E5ECF6",
           "radialaxis": {
            "gridcolor": "white",
            "linecolor": "white",
            "ticks": ""
           }
          },
          "scene": {
           "xaxis": {
            "backgroundcolor": "#E5ECF6",
            "gridcolor": "white",
            "gridwidth": 2,
            "linecolor": "white",
            "showbackground": true,
            "ticks": "",
            "zerolinecolor": "white"
           },
           "yaxis": {
            "backgroundcolor": "#E5ECF6",
            "gridcolor": "white",
            "gridwidth": 2,
            "linecolor": "white",
            "showbackground": true,
            "ticks": "",
            "zerolinecolor": "white"
           },
           "zaxis": {
            "backgroundcolor": "#E5ECF6",
            "gridcolor": "white",
            "gridwidth": 2,
            "linecolor": "white",
            "showbackground": true,
            "ticks": "",
            "zerolinecolor": "white"
           }
          },
          "shapedefaults": {
           "line": {
            "color": "#2a3f5f"
           }
          },
          "ternary": {
           "aaxis": {
            "gridcolor": "white",
            "linecolor": "white",
            "ticks": ""
           },
           "baxis": {
            "gridcolor": "white",
            "linecolor": "white",
            "ticks": ""
           },
           "bgcolor": "#E5ECF6",
           "caxis": {
            "gridcolor": "white",
            "linecolor": "white",
            "ticks": ""
           }
          },
          "title": {
           "x": 0.05
          },
          "xaxis": {
           "automargin": true,
           "gridcolor": "white",
           "linecolor": "white",
           "ticks": "",
           "title": {
            "standoff": 15
           },
           "zerolinecolor": "white",
           "zerolinewidth": 2
          },
          "yaxis": {
           "automargin": true,
           "gridcolor": "white",
           "linecolor": "white",
           "ticks": "",
           "title": {
            "standoff": 15
           },
           "zerolinecolor": "white",
           "zerolinewidth": 2
          }
         }
        },
        "title": {
         "text": "Multi-Modal Branch Analysis: Feature Count vs Importance"
        },
        "xaxis": {
         "title": {
          "text": "Number of Features"
         }
        },
        "yaxis": {
         "title": {
          "text": "Average Feature Importance"
         }
        }
       }
      },
      "image/png": "[encoded data removed]"
     },
     "metadata": {},
     "output_type": "display_data"
    },
    {
     "name": "stdout",
     "output_type": "stream",
     "text": [
      "Creating graph construction analysis...\n"
     ]
    },
    {
     "data": {
      "application/vnd.plotly.v1+json": {
       "config": {
        "plotlyServerURL": "https://plot.ly"
       },
       "data": [
        {
         "line": {
          "width": 2
         },
         "mode": "lines+markers",
         "name": "Correlation Graph",
         "type": "scatter",
         "x": [
          "Flow Duration",
          "Total Fwd Packet",
          "Total Bwd packets",
          "Total Length of Fwd Packet",
          "Total Length of Bwd Packet",
          "Fwd Packet Length Max",
          "Fwd Packet Length Min",
          "Fwd Packet Length Mean",
          "Fwd Packet Length Std",
          "Bwd Packet Length Max",
          "Bwd Packet Length Min",
          "Bwd Packet Length Mean",
          "Bwd Packet Length Std",
          "Flow Bytes/s",
          "Flow Packets/s",
          "Flow IAT Mean",
          "Flow IAT Std",
          "Flow IAT Max",
          "Flow IAT Min",
          "Fwd IAT Total"
         ],
         "y": [
          6.811056361467032,
          4.153129765734276,
          3.3588366157018825,
          14.914195897482887,
          2.947303178093356,
          1.1894702939583361,
          0.7372728949954477,
          1.5234569180607485,
          1.1028648102448033,
          0.7794280802152274,
          0.40328570377656614,
          0.9124866915764202,
          0.6797571273075955,
          6.015852747432326,
          5.440539389420622,
          20.215162714256554,
          16.460173777250407,
          10.905342853852451,
          0.8007840297160543,
          4.830361674921576
         ]
        },
        {
         "line": {
          "width": 2
         },
         "mode": "lines+markers",
         "name": "Knn Graph",
         "type": "scatter",
         "x": [
          "Flow Duration",
          "Total Fwd Packet",
          "Total Bwd packets",
          "Total Length of Fwd Packet",
          "Total Length of Bwd Packet",
          "Fwd Packet Length Max",
          "Fwd Packet Length Min",
          "Fwd Packet Length Mean",
          "Fwd Packet Length Std",
          "Bwd Packet Length Max",
          "Bwd Packet Length Min",
          "Bwd Packet Length Mean",
          "Bwd Packet Length Std",
          "Flow Bytes/s",
          "Flow Packets/s",
          "Flow IAT Mean",
          "Flow IAT Std",
          "Flow IAT Max",
          "Flow IAT Min",
          "Fwd IAT Total"
         ],
         "y": [
          32.399980353738655,
          59.46298015804187,
          19.338208107082227,
          68.92436215742582,
          19.82004251853655,
          4.077124470236199,
          22.519082014044425,
          7.7498144139909595,
          4.598906151056267,
          2.58512983390652,
          29.825957049767528,
          4.525319467818299,
          2.9404823677834604,
          26.487450450500543,
          23.793998690320006,
          44.00705650383958,
          41.38324259199371,
          44.95023532589962,
          14.291730808088948,
          33.03656619373639
         ]
        },
        {
         "line": {
          "width": 2
         },
         "mode": "lines+markers",
         "name": "Temporal Graph",
         "type": "scatter",
         "x": [
          "Flow Duration",
          "Total Fwd Packet",
          "Total Bwd packets",
          "Total Length of Fwd Packet",
          "Total Length of Bwd Packet",
          "Fwd Packet Length Max",
          "Fwd Packet Length Min",
          "Fwd Packet Length Mean",
          "Fwd Packet Length Std",
          "Bwd Packet Length Max",
          "Bwd Packet Length Min",
          "Bwd Packet Length Mean",
          "Bwd Packet Length Std",
          "Flow Bytes/s",
          "Flow Packets/s",
          "Flow IAT Mean",
          "Flow IAT Std",
          "Flow IAT Max",
          "Flow IAT Min",
          "Fwd IAT Total"
         ],
         "y": [
          1,
          0.5,
          0.5,
          0.5,
          0.5,
          0.5,
          0.5,
          0.5,
          0.5,
          0.5,
          0.5,
          0.5,
          0.5,
          0.5,
          0.5,
          1,
          1,
          1,
          1,
          1
         ]
        }
       ],
       "layout": {
        "template": {
         "data": {
          "bar": [
           {
            "error_x": {
             "color": "#2a3f5f"
            },
            "error_y": {
             "color": "#2a3f5f"
            },
            "marker": {
             "line": {
              "color": "#E5ECF6",
              "width": 0.5
             },
             "pattern": {
              "fillmode": "overlay",
              "size": 10,
              "solidity": 0.2
             }
            },
            "type": "bar"
           }
          ],
          "barpolar": [
           {
            "marker": {
             "line": {
              "color": "#E5ECF6",
              "width": 0.5
             },
             "pattern": {
              "fillmode": "overlay",
              "size": 10,
              "solidity": 0.2
             }
            },
            "type": "barpolar"
           }
          ],
          "carpet": [
           {
            "aaxis": {
             "endlinecolor": "#2a3f5f",
             "gridcolor": "white",
             "linecolor": "white",
             "minorgridcolor": "white",
             "startlinecolor": "#2a3f5f"
            },
            "baxis": {
             "endlinecolor": "#2a3f5f",
             "gridcolor": "white",
             "linecolor": "white",
             "minorgridcolor": "white",
             "startlinecolor": "#2a3f5f"
            },
            "type": "carpet"
           }
          ],
          "choropleth": [
           {
            "colorbar": {
             "outlinewidth": 0,
             "ticks": ""
            },
            "type": "choropleth"
           }
          ],
          "contour": [
           {
            "colorbar": {
             "outlinewidth": 0,
             "ticks": ""
            },
            "colorscale": [
             [
              0,
              "#0d0887"
             ],
             [
              0.1111111111111111,
              "#46039f"
             ],
             [
              0.2222222222222222,
              "#7201a8"
             ],
             [
              0.3333333333333333,
              "#9c179e"
             ],
             [
              0.4444444444444444,
              "#bd3786"
             ],
             [
              0.5555555555555556,
              "#d8576b"
             ],
             [
              0.6666666666666666,
              "#ed7953"
             ],
             [
              0.7777777777777778,
              "#fb9f3a"
             ],
             [
              0.8888888888888888,
              "#fdca26"
             ],
             [
              1,
              "#f0f921"
             ]
            ],
            "type": "contour"
           }
          ],
          "contourcarpet": [
           {
            "colorbar": {
             "outlinewidth": 0,
             "ticks": ""
            },
            "type": "contourcarpet"
           }
          ],
          "heatmap": [
           {
            "colorbar": {
             "outlinewidth": 0,
             "ticks": ""
            },
            "colorscale": [
             [
              0,
              "#0d0887"
             ],
             [
              0.1111111111111111,
              "#46039f"
             ],
             [
              0.2222222222222222,
              "#7201a8"
             ],
             [
              0.3333333333333333,
              "#9c179e"
             ],
             [
              0.4444444444444444,
              "#bd3786"
             ],
             [
              0.5555555555555556,
              "#d8576b"
             ],
             [
              0.6666666666666666,
              "#ed7953"
             ],
             [
              0.7777777777777778,
              "#fb9f3a"
             ],
             [
              0.8888888888888888,
              "#fdca26"
             ],
             [
              1,
              "#f0f921"
             ]
            ],
            "type": "heatmap"
           }
          ],
          "histogram": [
           {
            "marker": {
             "pattern": {
              "fillmode": "overlay",
              "size": 10,
              "solidity": 0.2
             }
            },
            "type": "histogram"
           }
          ],
          "histogram2d": [
           {
            "colorbar": {
             "outlinewidth": 0,
             "ticks": ""
            },
            "colorscale": [
             [
              0,
              "#0d0887"
             ],
             [
              0.1111111111111111,
              "#46039f"
             ],
             [
              0.2222222222222222,
              "#7201a8"
             ],
             [
              0.3333333333333333,
              "#9c179e"
             ],
             [
              0.4444444444444444,
              "#bd3786"
             ],
             [
              0.5555555555555556,
              "#d8576b"
             ],
             [
              0.6666666666666666,
              "#ed7953"
             ],
             [
              0.7777777777777778,
              "#fb9f3a"
             ],
             [
              0.8888888888888888,
              "#fdca26"
             ],
             [
              1,
              "#f0f921"
             ]
            ],
            "type": "histogram2d"
           }
          ],
          "histogram2dcontour": [
           {
            "colorbar": {
             "outlinewidth": 0,
             "ticks": ""
            },
            "colorscale": [
             [
              0,
              "#0d0887"
             ],
             [
              0.1111111111111111,
              "#46039f"
             ],
             [
              0.2222222222222222,
              "#7201a8"
             ],
             [
              0.3333333333333333,
              "#9c179e"
             ],
             [
              0.4444444444444444,
              "#bd3786"
             ],
             [
              0.5555555555555556,
              "#d8576b"
             ],
             [
              0.6666666666666666,
              "#ed7953"
             ],
             [
              0.7777777777777778,
              "#fb9f3a"
             ],
             [
              0.8888888888888888,
              "#fdca26"
             ],
             [
              1,
              "#f0f921"
             ]
            ],
            "type": "histogram2dcontour"
           }
          ],
          "mesh3d": [
           {
            "colorbar": {
             "outlinewidth": 0,
             "ticks": ""
            },
            "type": "mesh3d"
           }
          ],
          "parcoords": [
           {
            "line": {
             "colorbar": {
              "outlinewidth": 0,
              "ticks": ""
             }
            },
            "type": "parcoords"
           }
          ],
          "pie": [
           {
            "automargin": true,
            "type": "pie"
           }
          ],
          "scatter": [
           {
            "fillpattern": {
             "fillmode": "overlay",
             "size": 10,
             "solidity": 0.2
            },
            "type": "scatter"
           }
          ],
          "scatter3d": [
           {
            "line": {
             "colorbar": {
              "outlinewidth": 0,
              "ticks": ""
             }
            },
            "marker": {
             "colorbar": {
              "outlinewidth": 0,
              "ticks": ""
             }
            },
            "type": "scatter3d"
           }
          ],
          "scattercarpet": [
           {
            "marker": {
             "colorbar": {
              "outlinewidth": 0,
              "ticks": ""
             }
            },
            "type": "scattercarpet"
           }
          ],
          "scattergeo": [
           {
            "marker": {
             "colorbar": {
              "outlinewidth": 0,
              "ticks": ""
             }
            },
            "type": "scattergeo"
           }
          ],
          "scattergl": [
           {
            "marker": {
             "colorbar": {
              "outlinewidth": 0,
              "ticks": ""
             }
            },
            "type": "scattergl"
           }
          ],
          "scattermap": [
           {
            "marker": {
             "colorbar": {
              "outlinewidth": 0,
              "ticks": ""
             }
            },
            "type": "scattermap"
           }
          ],
          "scattermapbox": [
           {
            "marker": {
             "colorbar": {
              "outlinewidth": 0,
              "ticks": ""
             }
            },
            "type": "scattermapbox"
           }
          ],
          "scatterpolar": [
           {
            "marker": {
             "colorbar": {
              "outlinewidth": 0,
              "ticks": ""
             }
            },
            "type": "scatterpolar"
           }
          ],
          "scatterpolargl": [
           {
            "marker": {
             "colorbar": {
              "outlinewidth": 0,
              "ticks": ""
             }
            },
            "type": "scatterpolargl"
           }
          ],
          "scatterternary": [
           {
            "marker": {
             "colorbar": {
              "outlinewidth": 0,
              "ticks": ""
             }
            },
            "type": "scatterternary"
           }
          ],
          "surface": [
           {
            "colorbar": {
             "outlinewidth": 0,
             "ticks": ""
            },
            "colorscale": [
             [
              0,
              "#0d0887"
             ],
             [
              0.1111111111111111,
              "#46039f"
             ],
             [
              0.2222222222222222,
              "#7201a8"
             ],
             [
              0.3333333333333333,
              "#9c179e"
             ],
             [
              0.4444444444444444,
              "#bd3786"
             ],
             [
              0.5555555555555556,
              "#d8576b"
             ],
             [
              0.6666666666666666,
              "#ed7953"
             ],
             [
              0.7777777777777778,
              "#fb9f3a"
             ],
             [
              0.8888888888888888,
              "#fdca26"
             ],
             [
              1,
              "#f0f921"
             ]
            ],
            "type": "surface"
           }
          ],
          "table": [
           {
            "cells": {
             "fill": {
              "color": "#EBF0F8"
             },
             "line": {
              "color": "white"
             }
            },
            "header": {
             "fill": {
              "color": "#C8D4E3"
             },
             "line": {
              "color": "white"
             }
            },
            "type": "table"
           }
          ]
         },
         "layout": {
          "annotationdefaults": {
           "arrowcolor": "#2a3f5f",
           "arrowhead": 0,
           "arrowwidth": 1
          },
          "autotypenumbers": "strict",
          "coloraxis": {
           "colorbar": {
            "outlinewidth": 0,
            "ticks": ""
           }
          },
          "colorscale": {
           "diverging": [
            [
             0,
             "#8e0152"
            ],
            [
             0.1,
             "#c51b7d"
            ],
            [
             0.2,
             "#de77ae"
            ],
            [
             0.3,
             "#f1b6da"
            ],
            [
             0.4,
             "#fde0ef"
            ],
            [
             0.5,
             "#f7f7f7"
            ],
            [
             0.6,
             "#e6f5d0"
            ],
            [
             0.7,
             "#b8e186"
            ],
            [
             0.8,
             "#7fbc41"
            ],
            [
             0.9,
             "#4d9221"
            ],
            [
             1,
             "#276419"
            ]
           ],
           "sequential": [
            [
             0,
             "#0d0887"
            ],
            [
             0.1111111111111111,
             "#46039f"
            ],
            [
             0.2222222222222222,
             "#7201a8"
            ],
            [
             0.3333333333333333,
             "#9c179e"
            ],
            [
             0.4444444444444444,
             "#bd3786"
            ],
            [
             0.5555555555555556,
             "#d8576b"
            ],
            [
             0.6666666666666666,
             "#ed7953"
            ],
            [
             0.7777777777777778,
             "#fb9f3a"
            ],
            [
             0.8888888888888888,
             "#fdca26"
            ],
            [
             1,
             "#f0f921"
            ]
           ],
           "sequentialminus": [
            [
             0,
             "#0d0887"
            ],
            [
             0.1111111111111111,
             "#46039f"
            ],
            [
             0.2222222222222222,
             "#7201a8"
            ],
            [
             0.3333333333333333,
             "#9c179e"
            ],
            [
             0.4444444444444444,
             "#bd3786"
            ],
            [
             0.5555555555555556,
             "#d8576b"
            ],
            [
             0.6666666666666666,
             "#ed7953"
            ],
            [
             0.7777777777777778,
             "#fb9f3a"
            ],
            [
             0.8888888888888888,
             "#fdca26"
            ],
            [
             1,
             "#f0f921"
            ]
           ]
          },
          "colorway": [
           "#636efa",
           "#EF553B",
           "#00cc96",
           "#ab63fa",
           "#FFA15A",
           "#19d3f3",
           "#FF6692",
           "#B6E880",
           "#FF97FF",
           "#FECB52"
          ],
          "font": {
           "color": "#2a3f5f"
          },
          "geo": {
           "bgcolor": "white",
           "lakecolor": "white",
           "landcolor": "#E5ECF6",
           "showlakes": true,
           "showland": true,
           "subunitcolor": "white"
          },
          "hoverlabel": {
           "align": "left"
          },
          "hovermode": "closest",
          "mapbox": {
           "style": "light"
          },
          "paper_bgcolor": "white",
          "plot_bgcolor": "#E5ECF6",
          "polar": {
           "angularaxis": {
            "gridcolor": "white",
            "linecolor": "white",
            "ticks": ""
           },
           "bgcolor": "#E5ECF6",
           "radialaxis": {
            "gridcolor": "white",
            "linecolor": "white",
            "ticks": ""
           }
          },
          "scene": {
           "xaxis": {
            "backgroundcolor": "#E5ECF6",
            "gridcolor": "white",
            "gridwidth": 2,
            "linecolor": "white",
            "showbackground": true,
            "ticks": "",
            "zerolinecolor": "white"
           },
           "yaxis": {
            "backgroundcolor": "#E5ECF6",
            "gridcolor": "white",
            "gridwidth": 2,
            "linecolor": "white",
            "showbackground": true,
            "ticks": "",
            "zerolinecolor": "white"
           },
           "zaxis": {
            "backgroundcolor": "#E5ECF6",
            "gridcolor": "white",
            "gridwidth": 2,
            "linecolor": "white",
            "showbackground": true,
            "ticks": "",
            "zerolinecolor": "white"
           }
          },
          "shapedefaults": {
           "line": {
            "color": "#2a3f5f"
           }
          },
          "ternary": {
           "aaxis": {
            "gridcolor": "white",
            "linecolor": "white",
            "ticks": ""
           },
           "baxis": {
            "gridcolor": "white",
            "linecolor": "white",
            "ticks": ""
           },
           "bgcolor": "#E5ECF6",
           "caxis": {
            "gridcolor": "white",
            "linecolor": "white",
            "ticks": ""
           }
          },
          "title": {
           "x": 0.05
          },
          "xaxis": {
           "automargin": true,
           "gridcolor": "white",
           "linecolor": "white",
           "ticks": "",
           "title": {
            "standoff": 15
           },
           "zerolinecolor": "white",
           "zerolinewidth": 2
          },
          "yaxis": {
           "automargin": true,
           "gridcolor": "white",
           "linecolor": "white",
           "ticks": "",
           "title": {
            "standoff": 15
           },
           "zerolinecolor": "white",
           "zerolinewidth": 2
          }
         }
        },
        "title": {
         "text": "Feature Suitability for Different Graph Construction Methods"
        },
        "xaxis": {
         "tickangle": 45,
         "title": {
          "text": "Features"
         }
        },
        "yaxis": {
         "title": {
          "text": "Suitability Score"
         }
        }
       }
      },
      "image/png": "[encoded data removed]"
     },
     "metadata": {},
     "output_type": "display_data"
    },
    {
     "name": "stdout",
     "output_type": "stream",
     "text": [
      "Advanced visualizations created successfully!\n"
     ]
    }
   ],
   "source": [
    "# Cell 10: Advanced Feature Analysis and Visualization\n",
    "def create_advanced_visualizations():\n",
    "    \"\"\"Creating advanced visualizations for feature analysis\"\"\"\n",
    "    \n",
    "    print(\"=== CREATING ADVANCED VISUALIZATIONS ===\")\n",
    "    \n",
    "    # Sample data for visualization\n",
    "    data_sample = datasets['data']['full'].sample(\n",
    "        n=FEATURE_CONFIG['sample_size_small'], \n",
    "        random_state=FEATURE_CONFIG['random_state']\n",
    "    )\n",
    "    labels_sample = datasets['labels']['full'].iloc[data_sample.index]\n",
    "    \n",
    "    # 1. Feature Importance Heatmap\n",
    "    print(\"Creating feature importance visualization...\")\n",
    "    \n",
    "    top_features = importance_analysis['combined_importance'].head(20)\n",
    "    \n",
    "    fig = make_subplots(\n",
    "        rows=2, cols=2,\n",
    "        subplot_titles=('Feature Importance Comparison', 'Feature Correlation Heatmap', \n",
    "                       'Class Distribution', 'Feature Range Analysis'),\n",
    "        specs=[[{\"type\": \"bar\"}, {\"type\": \"heatmap\"}],\n",
    "               [{\"type\": \"pie\"}, {\"type\": \"box\"}]]\n",
    "    )\n",
    "    \n",
    "    # Feature importance comparison\n",
    "    fig.add_trace(\n",
    "        go.Bar(x=top_features['feature'], y=top_features['combined_score'],\n",
    "               name='Combined Score', showlegend=False),\n",
    "        row=1, col=1\n",
    "    )\n",
    "    \n",
    "    # Correlation heatmap for top features\n",
    "    top_feature_names = top_features['feature'].tolist()\n",
    "    corr_subset = correlation_analysis['correlation_matrix'].loc[top_feature_names, top_feature_names]\n",
    "    \n",
    "    fig.add_trace(\n",
    "        go.Heatmap(z=corr_subset.values, x=corr_subset.columns, y=corr_subset.index,\n",
    "                   colorscale='RdBu', zmid=0, showscale=False),\n",
    "        row=1, col=2\n",
    "    )\n",
    "    \n",
    "    # Class distribution\n",
    "    class_counts = labels_sample['Label'].value_counts()\n",
    "    fig.add_trace(\n",
    "        go.Pie(labels=class_counts.index, values=class_counts.values, showlegend=False),\n",
    "        row=2, col=1\n",
    "    )\n",
    "    \n",
    "    # Feature range analysis (box plot for top 10 features)\n",
    "    top_10_features = top_features.head(10)['feature'].tolist()\n",
    "    \n",
    "    # Normalize features for comparison\n",
    "    from sklearn.preprocessing import StandardScaler\n",
    "    scaler = StandardScaler()\n",
    "    normalized_data = scaler.fit_transform(data_sample[top_10_features])\n",
    "    normalized_df = pd.DataFrame(normalized_data, columns=top_10_features)\n",
    "    \n",
    "    for i, feature in enumerate(top_10_features[:5]):  # Show only 5 for clarity\n",
    "        fig.add_trace(\n",
    "            go.Box(y=normalized_df[feature], name=feature[:15], showlegend=False),\n",
    "            row=2, col=2\n",
    "        )\n",
    "    \n",
    "    fig.update_layout(height=800, title_text=\"Comprehensive Feature Analysis Dashboard\")\n",
    "    fig.update_xaxes(tickangle=45, row=1, col=1)\n",
    "    fig.show()\n",
    "    \n",
    "    # 2. Branch Feature Distribution\n",
    "    print(\"Creating branch feature distribution...\")\n",
    "    \n",
    "    branch_features = multimodal_design['refined_branch_features']\n",
    "    branch_importance = {}\n",
    "    \n",
    "    for branch, features in branch_features.items():\n",
    "        branch_scores = []\n",
    "        for feature in features:\n",
    "            score_row = importance_analysis['combined_importance'][\n",
    "                importance_analysis['combined_importance']['feature'] == feature\n",
    "            ]\n",
    "            if not score_row.empty:\n",
    "                branch_scores.append(score_row['combined_score'].iloc[0])\n",
    "        branch_importance[branch] = np.mean(branch_scores) if branch_scores else 0\n",
    "    \n",
    "    # Branch comparison plot\n",
    "    fig_branch = go.Figure()\n",
    "    \n",
    "    branches = list(branch_importance.keys())\n",
    "    importance_scores = list(branch_importance.values())\n",
    "    feature_counts = [len(branch_features[branch]) for branch in branches]\n",
    "    \n",
    "    fig_branch.add_trace(\n",
    "        go.Scatter(x=feature_counts, y=importance_scores,\n",
    "                  mode='markers+text',\n",
    "                  text=[b.replace('_branch', '').upper() for b in branches],\n",
    "                  textposition=\"middle center\",\n",
    "                  marker=dict(size=[c*2 for c in feature_counts], \n",
    "                            color=importance_scores,\n",
    "                            colorscale='Viridis',\n",
    "                            showscale=True,\n",
    "                            colorbar=dict(title=\"Avg Importance\")),\n",
    "                  name='Branches')\n",
    "    )\n",
    "    \n",
    "    fig_branch.update_layout(\n",
    "        title='Multi-Modal Branch Analysis: Feature Count vs Importance',\n",
    "        xaxis_title='Number of Features',\n",
    "        yaxis_title='Average Feature Importance',\n",
    "        showlegend=False\n",
    "    )\n",
    "    fig_branch.show()\n",
    "    \n",
    "    # 3. Graph Construction Analysis\n",
    "    print(\"Creating graph construction analysis...\")\n",
    "    \n",
    "    # Analyzing feature suitability for different graph types\n",
    "    graph_suitability = {\n",
    "        'correlation': [],\n",
    "        'knn': [],\n",
    "        'temporal': []\n",
    "    }\n",
    "    \n",
    "    for feature in data_sample.columns[:20]:  # Analyze top 20 features\n",
    "        values = data_sample[feature]\n",
    "        \n",
    "        # Correlation suitability (good variance, not too many zeros)\n",
    "        correlation_score = (values.std() / (values.mean() + 1e-8)) * (1 - (values == 0).sum() / len(values))\n",
    "        graph_suitability['correlation'].append(correlation_score)\n",
    "        \n",
    "        # KNN suitability (good distribution, wide range)\n",
    "        knn_score = (values.max() - values.min()) / (values.std() + 1e-8)\n",
    "        graph_suitability['knn'].append(knn_score)\n",
    "        \n",
    "        # Temporal suitability (for timing features)\n",
    "        temporal_score = 1.0 if any(term in feature.lower() for term in ['time', 'iat', 'duration']) else 0.5\n",
    "        graph_suitability['temporal'].append(temporal_score)\n",
    "    \n",
    "    # Graph suitability comparison\n",
    "    fig_graph = go.Figure()\n",
    "    \n",
    "    features_subset = data_sample.columns[:20].tolist()\n",
    "    \n",
    "    for graph_type, scores in graph_suitability.items():\n",
    "        fig_graph.add_trace(\n",
    "            go.Scatter(x=features_subset, y=scores,\n",
    "                      mode='lines+markers',\n",
    "                      name=f'{graph_type.capitalize()} Graph',\n",
    "                      line=dict(width=2))\n",
    "        )\n",
    "    \n",
    "    fig_graph.update_layout(\n",
    "        title='Feature Suitability for Different Graph Construction Methods',\n",
    "        xaxis_title='Features',\n",
    "        yaxis_title='Suitability Score',\n",
    "        xaxis=dict(tickangle=45)\n",
    "    )\n",
    "    fig_graph.show()\n",
    "    \n",
    "    print(\"Advanced visualizations created successfully!\")\n",
    "    \n",
    "    return {\n",
    "        'branch_importance': branch_importance,\n",
    "        'graph_suitability': graph_suitability\n",
    "    }\n",
    "\n",
    "# Creating advanced visualizations\n",
    "visualization_results = create_advanced_visualizations()"
   ]
  },
  {
   "cell_type": "code",
   "execution_count": 11,
   "id": "30aa98b0-169e-4234-a35a-b99925ddc25e",
   "metadata": {},
   "outputs": [
    {
     "name": "stdout",
     "output_type": "stream",
     "text": [
      "=== PREPROCESSING PIPELINE DESIGN ===\n",
      "Pipeline stages:\n",
      "\n",
      "STAGE_1_CLEANING: Data cleaning and basic preprocessing\n",
      "  1. Handle Missing Values\n",
      "  2. Remove Duplicates\n",
      "  3. Data Type Optimization\n",
      "  4. Outlier Detection\n",
      "\n",
      "STAGE_2_FEATURE_ENGINEERING: Feature creation and transformation\n",
      "  1. Create Ratio Features\n",
      "  2. Create Interaction Features\n",
      "  3. Create Temporal Aggregations\n",
      "  4. Create Statistical Features\n",
      "\n",
      "STAGE_3_NORMALIZATION: Feature scaling and normalization\n",
      "  1. Standard Scaling\n",
      "  2. Robust Scaling For Outliers\n",
      "  3. Min Max Scaling For Bounded Features\n",
      "\n",
      "STAGE_4_SELECTION: Feature selection and dimensionality reduction\n",
      "  1. Correlation Filtering\n",
      "  2. Importance Based Selection\n",
      "  3. Variance Threshold Filtering\n",
      "  4. Pca Transformation\n",
      "\n",
      "STAGE_5_MULTIMODAL_PREPARATION: Prepare features for different model branches\n",
      "  1. Branch Feature Allocation\n",
      "  2. Feature Embedding Preparation\n",
      "  3. Graph Construction Features\n",
      "\n",
      "=== PIPELINE CONFIGURATION ===\n",
      "Feature engineering:\n",
      "  - Ratio features: 3\n",
      "  - Interaction features: Top 10\n",
      "  - Temporal windows: [5, 10, 20]\n",
      "\n",
      "Normalization strategy:\n",
      "  - Standard scaling: 76 features\n",
      "  - Robust scaling: 12 features\n",
      "  - MinMax scaling: 2 features\n",
      "\n",
      "Multi-modal allocation:\n",
      "  - CNN branch: 20 features\n",
      "  - Transformer branch: 20 features\n",
      "  - Graph branch: 15 features\n"
     ]
    }
   ],
   "source": [
    "# Cell 11: Feature Engineering Pipeline Design\n",
    "def design_preprocessing_pipeline():\n",
    "    \"\"\"Designing the complete preprocessing pipeline\"\"\"\n",
    "    \n",
    "    print(\"=== PREPROCESSING PIPELINE DESIGN ===\")\n",
    "    \n",
    "    pipeline_config = {\n",
    "        'stage_1_cleaning': {\n",
    "            'description': 'Data cleaning and basic preprocessing',\n",
    "            'operations': [\n",
    "                'handle_missing_values',\n",
    "                'remove_duplicates', \n",
    "                'data_type_optimization',\n",
    "                'outlier_detection'\n",
    "            ]\n",
    "        },\n",
    "        'stage_2_feature_engineering': {\n",
    "            'description': 'Feature creation and transformation',\n",
    "            'operations': [\n",
    "                'create_ratio_features',\n",
    "                'create_interaction_features',\n",
    "                'create_temporal_aggregations',\n",
    "                'create_statistical_features'\n",
    "            ]\n",
    "        },\n",
    "        'stage_3_normalization': {\n",
    "            'description': 'Feature scaling and normalization',\n",
    "            'operations': [\n",
    "                'standard_scaling',\n",
    "                'robust_scaling_for_outliers',\n",
    "                'min_max_scaling_for_bounded_features'\n",
    "            ]\n",
    "        },\n",
    "        'stage_4_selection': {\n",
    "            'description': 'Feature selection and dimensionality reduction',\n",
    "            'operations': [\n",
    "                'correlation_filtering',\n",
    "                'importance_based_selection',\n",
    "                'variance_threshold_filtering',\n",
    "                'pca_transformation'\n",
    "            ]\n",
    "        },\n",
    "        'stage_5_multimodal_preparation': {\n",
    "            'description': 'Prepare features for different model branches',\n",
    "            'operations': [\n",
    "                'branch_feature_allocation',\n",
    "                'feature_embedding_preparation',\n",
    "                'graph_construction_features'\n",
    "            ]\n",
    "        }\n",
    "    }\n",
    "    \n",
    "    # Detailed pipeline implementation\n",
    "    print(\"Pipeline stages:\")\n",
    "    for stage, config in pipeline_config.items():\n",
    "        print(f\"\\n{stage.upper()}: {config['description']}\")\n",
    "        for i, operation in enumerate(config['operations'], 1):\n",
    "            print(f\"  {i}. {operation.replace('_', ' ').title()}\")\n",
    "    \n",
    "    # Specific configurations for each stage\n",
    "    detailed_config = {\n",
    "        'cleaning': {\n",
    "            'missing_value_threshold': 0.05,  # Remove features with >5% missing\n",
    "            'outlier_method': 'iqr',          # IQR method for outlier detection\n",
    "            'outlier_threshold': 3.0          # 3 IQR threshold\n",
    "        },\n",
    "        'feature_engineering': {\n",
    "            'ratio_features': {\n",
    "                'fwd_bwd_ratios': True,\n",
    "                'packet_byte_ratios': True,\n",
    "                'timing_ratios': True\n",
    "            },\n",
    "            'interaction_features': {\n",
    "                'top_k_features': 10,\n",
    "                'polynomial_degree': 2\n",
    "            },\n",
    "            'temporal_features': {\n",
    "                'window_sizes': [5, 10, 20],\n",
    "                'aggregations': ['mean', 'std', 'max', 'min']\n",
    "            }\n",
    "        },\n",
    "        'normalization': {\n",
    "            'standard_features': [f for f in importance_analysis['feature_names'] \n",
    "                                if f not in ['flag', 'count']],\n",
    "            'robust_features': [f for f in importance_analysis['feature_names'] \n",
    "                              if 'flag' in f.lower() or 'count' in f.lower()],\n",
    "            'minmax_features': [f for f in importance_analysis['feature_names'] \n",
    "                              if 'ratio' in f.lower()]\n",
    "        },\n",
    "        'selection': {\n",
    "            'correlation_threshold': 0.95,\n",
    "            'importance_percentile': 75,\n",
    "            'variance_threshold': 0.01,\n",
    "            'pca_variance_ratio': 0.95\n",
    "        },\n",
    "        'multimodal': {\n",
    "            'cnn_features': multimodal_design['refined_branch_features']['cnn_branch'],\n",
    "            'transformer_features': multimodal_design['refined_branch_features']['transformer_branch'],\n",
    "            'graph_features': multimodal_design['refined_branch_features']['graph_branch']\n",
    "        }\n",
    "    }\n",
    "    \n",
    "    print(f\"\\n=== PIPELINE CONFIGURATION ===\")\n",
    "    print(f\"Feature engineering:\")\n",
    "    print(f\"  - Ratio features: {len([k for k, v in detailed_config['feature_engineering']['ratio_features'].items() if v])}\")\n",
    "    print(f\"  - Interaction features: Top {detailed_config['feature_engineering']['interaction_features']['top_k_features']}\")\n",
    "    print(f\"  - Temporal windows: {detailed_config['feature_engineering']['temporal_features']['window_sizes']}\")\n",
    "    \n",
    "    print(f\"\\nNormalization strategy:\")\n",
    "    print(f\"  - Standard scaling: {len(detailed_config['normalization']['standard_features'])} features\")\n",
    "    print(f\"  - Robust scaling: {len(detailed_config['normalization']['robust_features'])} features\")\n",
    "    print(f\"  - MinMax scaling: {len(detailed_config['normalization']['minmax_features'])} features\")\n",
    "    \n",
    "    print(f\"\\nMulti-modal allocation:\")\n",
    "    print(f\"  - CNN branch: {len(detailed_config['multimodal']['cnn_features'])} features\")\n",
    "    print(f\"  - Transformer branch: {len(detailed_config['multimodal']['transformer_features'])} features\")\n",
    "    print(f\"  - Graph branch: {len(detailed_config['multimodal']['graph_features'])} features\")\n",
    "    \n",
    "    return {\n",
    "        'pipeline_config': pipeline_config,\n",
    "        'detailed_config': detailed_config\n",
    "    }\n",
    "\n",
    "# Designing preprocessing pipeline\n",
    "pipeline_design = design_preprocessing_pipeline()"
   ]
  },
  {
   "cell_type": "code",
   "execution_count": 12,
   "id": "7634ff40-5646-435b-811e-7d965ba192da",
   "metadata": {},
   "outputs": [
    {
     "name": "stdout",
     "output_type": "stream",
     "text": [
      "=== GENERATING COMPREHENSIVE FEATURE ANALYSIS REPORT ===\n",
      "Comprehensive analysis complete!\n",
      "Full report: C:\\Users\\Ashutosh\\Documents\\Projects\\NIDS\\results\\feature_analysis\\comprehensive_feature_analysis.json\n",
      "Executive summary: C:\\Users\\Ashutosh\\Documents\\Projects\\NIDS\\results\\feature_analysis\\executive_summary.md\n",
      "Feature allocation: C:\\Users\\Ashutosh\\Documents\\Projects\\NIDS\\results\\feature_analysis\\feature_allocation.json\n",
      "\n",
      "FEATURE ANALYSIS COMPLETE!\n",
      "Ready for model architecture implementation\n",
      "76 features analyzed\n",
      "3 branches designed\n",
      "3 graph strategies ready\n"
     ]
    }
   ],
   "source": [
    "# Cell 12: Generating Comprehensive Feature Analysis Report\n",
    "def generate_comprehensive_report():\n",
    "    \"\"\"Generating a comprehensive report of all feature analysis results\"\"\"\n",
    "    \n",
    "    print(\"=== GENERATING COMPREHENSIVE FEATURE ANALYSIS REPORT ===\")\n",
    "    \n",
    "    # Compiling all analysis results\n",
    "    comprehensive_report = {\n",
    "        'analysis_metadata': {\n",
    "            'timestamp': datetime.now().isoformat(),\n",
    "            'dataset_summary': {\n",
    "                'cicflow_rows': datasets['cicflow']['shape_full'][0],\n",
    "                'cicflow_features': datasets['cicflow']['shape_full'][1],\n",
    "                'data_rows': datasets['data']['shape'][0],\n",
    "                'data_features': datasets['data']['shape'][1],\n",
    "                'label_rows': datasets['labels']['shape'][0]\n",
    "            },\n",
    "            'analysis_samples': {\n",
    "                'correlation_analysis': FEATURE_CONFIG['sample_size_medium'],\n",
    "                'importance_analysis': FEATURE_CONFIG['sample_size_medium'],\n",
    "                'graph_analysis': FEATURE_CONFIG['sample_size_small']\n",
    "            }\n",
    "        },\n",
    "        'label_analysis': {\n",
    "            'cicflow_labels': label_analysis['cicflow_distribution'].to_dict(),\n",
    "            'numerical_labels': label_analysis['numerical_distribution'].to_dict(),\n",
    "            'imbalance_ratios': label_analysis['imbalance_ratios']\n",
    "        },\n",
    "        'feature_importance': {\n",
    "            'top_20_features': importance_analysis['combined_importance'].head(20).to_dict('records'),\n",
    "            'mutual_info_top_10': importance_analysis['mutual_info'].head(10).to_dict('records'),\n",
    "            'f_stat_top_10': importance_analysis['f_statistics'].head(10).to_dict('records')\n",
    "        },\n",
    "        'correlation_analysis': {\n",
    "            'high_correlation_pairs': len(correlation_analysis['high_corr_pairs']),\n",
    "            'feature_clusters': len(correlation_analysis['feature_clusters']),\n",
    "            'correlation_threshold': FEATURE_CONFIG['correlation_threshold']\n",
    "        },\n",
    "        'multimodal_design': {\n",
    "            'cnn_branch_features': len(multimodal_design['refined_branch_features']['cnn_branch']),\n",
    "            'transformer_branch_features': len(multimodal_design['refined_branch_features']['transformer_branch']),\n",
    "            'graph_branch_features': len(multimodal_design['refined_branch_features']['graph_branch']),\n",
    "            'branch_feature_allocation': multimodal_design['refined_branch_features']\n",
    "        },\n",
    "        'graph_construction': {\n",
    "            'strategies': list(graph_analysis['graph_strategies'].keys()),\n",
    "            'recommended_features': {\n",
    "                strategy: len(config['suitable_features']) \n",
    "                for strategy, config in graph_analysis['graph_strategies'].items()\n",
    "            }\n",
    "        },\n",
    "        'preprocessing_recommendations': engineering_recommendations,\n",
    "        'pipeline_design': pipeline_design['detailed_config']\n",
    "    }\n",
    "    \n",
    "    # Saving comprehensive report\n",
    "    report_path = FEATURE_RESULTS_PATH / \"comprehensive_feature_analysis.json\"\n",
    "    with open(report_path, 'w') as f:\n",
    "        json.dump(comprehensive_report, f, indent=2, default=str)\n",
    "    \n",
    "    # Generate executive summary\n",
    "    executive_summary = f\"\"\"\n",
    "# Feature Analysis Executive Summary\n",
    "\n",
    "## Dataset Overview\n",
    "- **CICFlowMeter**: {comprehensive_report['analysis_metadata']['dataset_summary']['cicflow_rows']:,} flows, {comprehensive_report['analysis_metadata']['dataset_summary']['cicflow_features']} features\n",
    "- **Training Data**: {comprehensive_report['analysis_metadata']['dataset_summary']['data_rows']:,} samples, {comprehensive_report['analysis_metadata']['dataset_summary']['data_features']} features\n",
    "- **Label Distribution**: {len(comprehensive_report['label_analysis']['numerical_labels'])} classes with {comprehensive_report['label_analysis']['imbalance_ratios']['numerical']:.1f}x imbalance\n",
    "\n",
    "## Key Findings\n",
    "1. **Feature Importance**: Top features identified through multi-metric analysis\n",
    "2. **Correlation**: {comprehensive_report['correlation_analysis']['high_correlation_pairs']} highly correlated feature pairs found\n",
    "3. **Multi-Modal**: Features optimally allocated across CNN ({comprehensive_report['multimodal_design']['cnn_branch_features']}), Transformer ({comprehensive_report['multimodal_design']['transformer_branch_features']}), and Graph ({comprehensive_report['multimodal_design']['graph_branch_features']}) branches\n",
    "\n",
    "## Architecture Recommendations\n",
    "- **HybridFormer**: Multi-branch architecture with cross-attention fusion\n",
    "- **GraphVAE**: {len(comprehensive_report['graph_construction']['strategies'])} graph construction strategies\n",
    "- **Preprocessing**: {len(comprehensive_report['preprocessing_recommendations']['preprocessing']) + len(comprehensive_report['preprocessing_recommendations']['feature_creation'])} recommended preprocessing steps\n",
    "\n",
    "Generated: {datetime.now().strftime('%Y-%m-%d %H:%M:%S')}\n",
    "\"\"\"\n",
    "    \n",
    "    # Saving executive summary\n",
    "    summary_path = FEATURE_RESULTS_PATH / \"executive_summary.md\"\n",
    "    with open(summary_path, 'w') as f:\n",
    "        f.write(executive_summary)\n",
    "    \n",
    "    # Creating feature allocation file for model development\n",
    "    feature_allocation = {\n",
    "        'cnn_branch': multimodal_design['refined_branch_features']['cnn_branch'],\n",
    "        'transformer_branch': multimodal_design['refined_branch_features']['transformer_branch'],\n",
    "        'graph_branch': multimodal_design['refined_branch_features']['graph_branch'],\n",
    "        'all_features': multimodal_design['all_features'],\n",
    "        'top_features_overall': importance_analysis['combined_importance'].head(30)['feature'].tolist()\n",
    "    }\n",
    "    \n",
    "    allocation_path = FEATURE_RESULTS_PATH / \"feature_allocation.json\"\n",
    "    with open(allocation_path, 'w') as f:\n",
    "        json.dump(feature_allocation, f, indent=2)\n",
    "    \n",
    "    print(f\"Comprehensive analysis complete!\")\n",
    "    print(f\"Full report: {report_path}\")\n",
    "    print(f\"Executive summary: {summary_path}\")\n",
    "    print(f\"Feature allocation: {allocation_path}\")\n",
    "    \n",
    "    print(f\"\\nFEATURE ANALYSIS COMPLETE!\")\n",
    "    print(f\"Ready for model architecture implementation\")\n",
    "    print(f\"{len(importance_analysis['combined_importance'])} features analyzed\")\n",
    "    print(f\"{len(multimodal_design['refined_branch_features'])} branches designed\")\n",
    "    print(f\"{len(graph_analysis['graph_strategies'])} graph strategies ready\")\n",
    "    \n",
    "    return comprehensive_report\n",
    "\n",
    "# Generating comprehensive report\n",
    "final_report = generate_comprehensive_report()"
   ]
  },
  {
   "cell_type": "code",
   "execution_count": null,
   "id": "326d5ea5-881c-490e-8576-52955030d85c",
   "metadata": {},
   "outputs": [],
   "source": []
  }
 ],
 "metadata": {
  "kernelspec": {
   "display_name": "Python 3 (ipykernel)",
   "language": "python",
   "name": "python3"
  },
  "language_info": {
   "codemirror_mode": {
    "name": "ipython",
    "version": 3
   },
   "file_extension": ".py",
   "mimetype": "text/x-python",
   "name": "python",
   "nbconvert_exporter": "python",
   "pygments_lexer": "ipython3",
   "version": "3.13.7"
  }
 },
 "nbformat": 4,
 "nbformat_minor": 5
}
